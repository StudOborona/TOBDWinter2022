{
 "cells": [
  {
   "cell_type": "code",
   "execution_count": 12,
   "id": "686bba16",
   "metadata": {},
   "outputs": [],
   "source": [
    "# 2 задача внизу"
   ]
  },
  {
   "cell_type": "code",
   "execution_count": 13,
   "id": "0513a09e",
   "metadata": {},
   "outputs": [
    {
     "name": "stdout",
     "output_type": "stream",
     "text": [
      "[(1, 'For Those About To Rock We Salute You', 1), (4, 'Let There Be Rock', 1)]\n",
      "кол-во треков: 8, время: 2453259\n"
     ]
    }
   ],
   "source": [
    "\n",
    "import sqlite3\n",
    "\n",
    "conn = sqlite3.connect('Chinook_Sqlite.sqlite')\n",
    "cur = conn.cursor()\n",
    "\n",
    "\n",
    "def get_albums(name: str):\n",
    "    cur.execute('''\n",
    "        SELECT *\n",
    "        FROM Album\n",
    "        WHERE ArtistId = (SELECT ArtistId FROM Artist WHERE name = ?)\n",
    "    ''', (name,))\n",
    "    return cur.fetchall()\n",
    "\n",
    "\n",
    "def get_track_count_and_milliseconds_sum(name: str, album: str):\n",
    "    cur.execute('''\n",
    "        SELECT *\n",
    "        FROM track\n",
    "        WHERE AlbumId = (SELECT AlbumId FROM album WHERE title = ? and artistId = (SELECT artistId FROM Artist WHERE name = ?))\n",
    "    ''', (album, name))\n",
    "    fetch = cur.fetchall()\n",
    "    sum_mill = 0\n",
    "    for i in fetch:\n",
    "        sum_mill += i[6]\n",
    "    return f'кол-во треков: {len(fetch)}, время: {sum_mill}'\n",
    "\n",
    "\n",
    "print(get_albums('AC/DC'))\n",
    "print(get_track_count_and_milliseconds_sum('AC/DC', 'Let There Be Rock'))"
   ]
  },
  {
   "cell_type": "code",
   "execution_count": 14,
   "id": "3b5c980c",
   "metadata": {},
   "outputs": [],
   "source": [
    "# 3 задача внизу"
   ]
  },
  {
   "cell_type": "code",
   "execution_count": 15,
   "id": "04e9a32d",
   "metadata": {},
   "outputs": [
    {
     "data": {
      "text/plain": [
       "485"
      ]
     },
     "execution_count": 15,
     "metadata": {},
     "output_type": "execute_result"
    }
   ],
   "source": [
    "# вроде так\n",
    "import dask.dataframe as dd\n",
    "\n",
    "accounts = dd.read_csv('accounts.*.csv',\n",
    "dtype={'amount': 'float64','id': 'int64', 'names': 'object'})\n",
    "\n",
    "accounts[(accounts['amount'] >= 1000)&(accounts['amount'] <= 1500)].groupby('id')['amount'].count().idxmax().compute()"
   ]
  },
  {
   "cell_type": "code",
   "execution_count": null,
   "id": "9b593421",
   "metadata": {},
   "outputs": [],
   "source": []
  }
 ],
 "metadata": {
  "kernelspec": {
   "display_name": "Python 3",
   "language": "python",
   "name": "python3"
  },
  "language_info": {
   "codemirror_mode": {
    "name": "ipython",
    "version": 3
   },
   "file_extension": ".py",
   "mimetype": "text/x-python",
   "name": "python",
   "nbconvert_exporter": "python",
   "pygments_lexer": "ipython3",
   "version": "3.8.8"
  }
 },
 "nbformat": 4,
 "nbformat_minor": 5
}
