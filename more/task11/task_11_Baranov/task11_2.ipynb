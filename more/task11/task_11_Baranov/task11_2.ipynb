{
 "cells": [
  {
   "cell_type": "code",
   "execution_count": 2,
   "metadata": {},
   "outputs": [
    {
     "data": {
      "text/plain": [
       "[(1, 'Music'),\n",
       " (2, 'Movies'),\n",
       " (3, 'TV Shows'),\n",
       " (4, 'Audiobooks'),\n",
       " (5, '90’s Music'),\n",
       " (6, 'Audiobooks'),\n",
       " (7, 'Movies'),\n",
       " (8, 'Music'),\n",
       " (9, 'Music Videos'),\n",
       " (10, 'TV Shows'),\n",
       " (11, 'Brazilian Music'),\n",
       " (12, 'Classical'),\n",
       " (13, 'Classical 101 - Deep Cuts'),\n",
       " (14, 'Classical 101 - Next Steps'),\n",
       " (15, 'Classical 101 - The Basics'),\n",
       " (16, 'Grunge'),\n",
       " (17, 'Heavy Metal Classic'),\n",
       " (18, 'On-The-Go 1')]"
      ]
     },
     "execution_count": 2,
     "metadata": {},
     "output_type": "execute_result"
    }
   ],
   "source": [
    "import sqlite3\n",
    "\n",
    "con = sqlite3.connect(\"Chinook_Sqlite.sqlite\")\n",
    "cur = con.cursor()\n",
    "cur.execute(\"SELECT * FROM Playlist\")\n",
    "cur.fetchall()"
   ]
  },
  {
   "cell_type": "code",
   "execution_count": 23,
   "metadata": {},
   "outputs": [
    {
     "data": {
      "text/plain": [
       "[(426, 1002189914)]"
      ]
     },
     "execution_count": 23,
     "metadata": {},
     "output_type": "execute_result"
    }
   ],
   "source": [
    "playlist_name = [\"TV Shows\"]\n",
    "cur.execute(\"\"\"SELECT COUNT(*), SUM(Milliseconds) FROM Playlist\n",
    "JOIN PlaylistTrack ON Playlist.PlaylistId = PlaylistTrack.PlaylistId\n",
    "JOIN Track ON PlaylistTrack.TrackId = Track.TrackId\n",
    "WHERE Playlist.Name = ?\n",
    "\"\"\", playlist_name)\n",
    "cur.fetchall()"
   ]
  }
 ],
 "metadata": {
  "interpreter": {
   "hash": "aee8b7b246df8f9039afb4144a1f6fd8d2ca17a180786b69acc140d282b71a49"
  },
  "kernelspec": {
   "display_name": "Python 3.9.9 64-bit",
   "language": "python",
   "name": "python3"
  },
  "language_info": {
   "codemirror_mode": {
    "name": "ipython",
    "version": 3
   },
   "file_extension": ".py",
   "mimetype": "text/x-python",
   "name": "python",
   "nbconvert_exporter": "python",
   "pygments_lexer": "ipython3",
   "version": "3.9.9"
  },
  "orig_nbformat": 4
 },
 "nbformat": 4,
 "nbformat_minor": 2
}
