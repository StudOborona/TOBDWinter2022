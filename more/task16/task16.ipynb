{
 "cells": [
  {
   "cell_type": "markdown",
   "id": "9778ba9a",
   "metadata": {},
   "source": [
    "# 2 вопрос"
   ]
  },
  {
   "cell_type": "markdown",
   "id": "d5f4b80f",
   "metadata": {},
   "source": [
    "Датасет sp500hst.txt\n",
    "    \n",
    "Для тикера NVDA посчитать, сколько дней прошло между максимальным и минимальным значением цены акции открытий рынка, и суммарный объем торгов за этот период (включая дни максимума и минимума). \n",
    "Решить задачу средствами numpy/pandas. Не использовать циклы и конструкции страндартного Python там, где можно использовать возможности данных библиотек."
   ]
  },
  {
   "cell_type": "code",
   "execution_count": 9,
   "id": "caca480c",
   "metadata": {},
   "outputs": [],
   "source": [
    "import pandas as pd\n",
    "columns = ['date', 'ticker', 'open','max_price','min_price','close','volume']\n",
    "\n",
    "ticker_df = pd.read_csv(\"ТОБД21_датасеты/датасеты_к_заданию_2/sp500hst.txt\", names=columns, parse_dates=['date'])"
   ]
  },
  {
   "cell_type": "code",
   "execution_count": 11,
   "id": "fd067be1",
   "metadata": {},
   "outputs": [
    {
     "data": {
      "text/plain": [
       "date         datetime64[ns]\n",
       "ticker               object\n",
       "open                float64\n",
       "max_price           float64\n",
       "min_price           float64\n",
       "close               float64\n",
       "volume                int64\n",
       "dtype: object"
      ]
     },
     "execution_count": 11,
     "metadata": {},
     "output_type": "execute_result"
    }
   ],
   "source": [
    "ticker_df.dtypes"
   ]
  },
  {
   "cell_type": "code",
   "execution_count": 29,
   "id": "21490f5d",
   "metadata": {},
   "outputs": [],
   "source": [
    "max_df = ticker_df.groupby('ticker').max()[['date','open']]"
   ]
  },
  {
   "cell_type": "code",
   "execution_count": 30,
   "id": "a837ebf4",
   "metadata": {},
   "outputs": [],
   "source": [
    "min_df = ticker_df.groupby('ticker').min()[['date','open']]"
   ]
  },
  {
   "cell_type": "code",
   "execution_count": 32,
   "id": "19198881",
   "metadata": {},
   "outputs": [
    {
     "data": {
      "text/plain": [
       "ticker\n",
       "A      364 days\n",
       "AA     364 days\n",
       "AAPL   364 days\n",
       "ABC    364 days\n",
       "ABT    364 days\n",
       "         ...   \n",
       "XTO    308 days\n",
       "YHOO   364 days\n",
       "YUM    364 days\n",
       "ZION   364 days\n",
       "ZMH    364 days\n",
       "Name: date, Length: 524, dtype: timedelta64[ns]"
      ]
     },
     "execution_count": 32,
     "metadata": {},
     "output_type": "execute_result"
    }
   ],
   "source": [
    "res1 = max_df['date'] - min_df['date'] # кол-во дней\n",
    "res1"
   ]
  },
  {
   "cell_type": "code",
   "execution_count": 48,
   "id": "8260cde8",
   "metadata": {},
   "outputs": [
    {
     "data": {
      "text/plain": [
       "ticker\n",
       "A    False\n",
       "Name: date, dtype: bool"
      ]
     },
     "execution_count": 48,
     "metadata": {},
     "output_type": "execute_result"
    }
   ],
   "source": [
    "min_df[min_df.index == \"A\"]['date'] > '2009-08-22'"
   ]
  },
  {
   "cell_type": "code",
   "execution_count": 112,
   "id": "cf45698c",
   "metadata": {},
   "outputs": [],
   "source": [
    "def getMin(x):\n",
    "    #print(min_df[min_df.index == x['ticker'][0]]['date'][0])\n",
    "    #print(\"getMin\",x['date']>min_df[min_df.index == x['ticker'][0]]['date'][0])\n",
    "    return x['date']>min_df[min_df.index == x['ticker'][0]]['date'][0]"
   ]
  },
  {
   "cell_type": "code",
   "execution_count": 113,
   "id": "ae6ac23b",
   "metadata": {},
   "outputs": [
    {
     "ename": "TypeError",
     "evalue": "filter function returned a Series, but expected a scalar bool",
     "output_type": "error",
     "traceback": [
      "\u001b[1;31m---------------------------------------------------------------------------\u001b[0m",
      "\u001b[1;31mTypeError\u001b[0m                                 Traceback (most recent call last)",
      "\u001b[1;32m~\\AppData\\Local\\Temp/ipykernel_12816/183872262.py\u001b[0m in \u001b[0;36m<module>\u001b[1;34m\u001b[0m\n\u001b[1;32m----> 1\u001b[1;33m \u001b[0mticker_df\u001b[0m\u001b[1;33m.\u001b[0m\u001b[0mgroupby\u001b[0m\u001b[1;33m(\u001b[0m\u001b[1;34m'ticker'\u001b[0m\u001b[1;33m)\u001b[0m\u001b[1;33m.\u001b[0m\u001b[0mfilter\u001b[0m\u001b[1;33m(\u001b[0m\u001b[1;32mlambda\u001b[0m \u001b[0mx\u001b[0m\u001b[1;33m:\u001b[0m \u001b[0mgetMin\u001b[0m\u001b[1;33m(\u001b[0m\u001b[0mx\u001b[0m\u001b[1;33m)\u001b[0m\u001b[1;33m)\u001b[0m\u001b[1;33m\u001b[0m\u001b[1;33m\u001b[0m\u001b[0m\n\u001b[0m",
      "\u001b[1;32m~\\AppData\\Local\\Programs\\Python\\Python39\\lib\\site-packages\\pandas\\core\\groupby\\generic.py\u001b[0m in \u001b[0;36mfilter\u001b[1;34m(self, func, dropna, *args, **kwargs)\u001b[0m\n\u001b[0;32m   1515\u001b[0m             \u001b[1;32melse\u001b[0m\u001b[1;33m:\u001b[0m\u001b[1;33m\u001b[0m\u001b[1;33m\u001b[0m\u001b[0m\n\u001b[0;32m   1516\u001b[0m                 \u001b[1;31m# non scalars aren't allowed\u001b[0m\u001b[1;33m\u001b[0m\u001b[1;33m\u001b[0m\u001b[0m\n\u001b[1;32m-> 1517\u001b[1;33m                 raise TypeError(\n\u001b[0m\u001b[0;32m   1518\u001b[0m                     \u001b[1;34mf\"filter function returned a {type(res).__name__}, \"\u001b[0m\u001b[1;33m\u001b[0m\u001b[1;33m\u001b[0m\u001b[0m\n\u001b[0;32m   1519\u001b[0m                     \u001b[1;34m\"but expected a scalar bool\"\u001b[0m\u001b[1;33m\u001b[0m\u001b[1;33m\u001b[0m\u001b[0m\n",
      "\u001b[1;31mTypeError\u001b[0m: filter function returned a Series, but expected a scalar bool"
     ]
    }
   ],
   "source": [
    "ticker_df.groupby('ticker').filter(lambda x: getMin(x))"
   ]
  },
  {
   "cell_type": "markdown",
   "id": "a32298cb",
   "metadata": {},
   "source": [
    "# 3 вопрос"
   ]
  },
  {
   "cell_type": "markdown",
   "id": "0a565288",
   "metadata": {},
   "source": [
    "В массиве чисел, хранящихся в файле random.hdf5, посчитать долю значений, превышающих среднее значение более чем на 3 стандартных отклонения. Выполнить задание с использованием dask.array, распараллелив процесс обработки данных (использование Dask должна приводить к истинной параллельной обработке данных)."
   ]
  },
  {
   "cell_type": "code",
   "execution_count": 75,
   "id": "62bc42ea",
   "metadata": {},
   "outputs": [
    {
     "name": "stdout",
     "output_type": "stream",
     "text": [
      "<HDF5 dataset \"data_set_1\": shape (1000, 100000), type \"<f8\">\n"
     ]
    }
   ],
   "source": [
    "import h5py\n",
    "import dask.array as da\n",
    "\n",
    "f = h5py.File('ТОБД21_датасеты/датасеты_к_заданию_3/random.hdf5', 'r')\n",
    "dataset = f['data_set_1']\n",
    "print(dataset)\n",
    "\n",
    "da_set = da.from_array(dataset, chunks=(1000, 1000))"
   ]
  },
  {
   "cell_type": "code",
   "execution_count": 115,
   "id": "7792f48f",
   "metadata": {},
   "outputs": [
    {
     "data": {
      "text/plain": [
       "array([-3.16995493, -3.08329195, -3.26213976, ...,  3.18450737,\n",
       "        3.45144948, -3.06750822])"
      ]
     },
     "execution_count": 115,
     "metadata": {},
     "output_type": "execute_result"
    }
   ],
   "source": [
    "da_set[abs(da_set - da_set.mean()) > 3*np.std(da_set)].compute()"
   ]
  }
 ],
 "metadata": {
  "kernelspec": {
   "display_name": "Python 3 (ipykernel)",
   "language": "python",
   "name": "python3"
  },
  "language_info": {
   "codemirror_mode": {
    "name": "ipython",
    "version": 3
   },
   "file_extension": ".py",
   "mimetype": "text/x-python",
   "name": "python",
   "nbconvert_exporter": "python",
   "pygments_lexer": "ipython3",
   "version": "3.9.7"
  }
 },
 "nbformat": 4,
 "nbformat_minor": 5
}
