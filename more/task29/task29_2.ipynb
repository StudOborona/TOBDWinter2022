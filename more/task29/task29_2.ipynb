{
 "cells": [
  {
   "cell_type": "markdown",
   "id": "e0f93c9a",
   "metadata": {},
   "source": [
    "Создать таблицу, в которой индексом являются даты торгов, столбцами - наименования тикеров, а в ячейках хранятся объёмы торгов. Заполнить эту таблицу данными из sp500hst.txt (в случае отсутствия инфомрации для определенных сочетаний тикер-дата, сохранить я ячейке пустое значение). Сохранить результат в новый CSV файл.\n",
    "Решить задачу средствами numpy и/или pandas. Не использовать циклы и нострукции стандартного python там, где можно использовать возможности данных библиотек."
   ]
  },
  {
   "cell_type": "code",
   "execution_count": 9,
   "id": "5e19d4a7",
   "metadata": {},
   "outputs": [],
   "source": [
    "import pandas as pd"
   ]
  },
  {
   "cell_type": "code",
   "execution_count": 10,
   "id": "601203d7",
   "metadata": {},
   "outputs": [],
   "source": [
    "df = pd.read_csv('./data/sp500hst.txt', names=['date', 'ticker', 'open', 'high', 'low', 'close', 'volume'], header = None)\n",
    "\n",
    "df['date'] = pd.to_datetime(df['date'], format=\"%Y%m%d\")\n",
    "df.head()\n",
    "\n",
    "dates = df['date'].unique()\n",
    "tickers = df['ticker'].unique()\n",
    "ndf = pd.DataFrame(columns=tickers)\n",
    "ndf['date'] = dates\n",
    "ndf.set_index('date', inplace=True)\n"
   ]
  },
  {
   "cell_type": "code",
   "execution_count": 11,
   "id": "f33f95ae",
   "metadata": {},
   "outputs": [],
   "source": [
    "for d in dates:\n",
    "    ndf.loc[d] = df[df['date']==d].groupby('ticker')['volume'].sum()"
   ]
  },
  {
   "cell_type": "code",
   "execution_count": 12,
   "id": "52e0306f",
   "metadata": {},
   "outputs": [],
   "source": [
    "ndf.to_csv('./out/t2.csv')"
   ]
  },
  {
   "cell_type": "code",
   "execution_count": null,
   "id": "a356343f",
   "metadata": {},
   "outputs": [],
   "source": []
  },
  {
   "cell_type": "code",
   "execution_count": null,
   "id": "6f3b37af",
   "metadata": {},
   "outputs": [],
   "source": []
  },
  {
   "cell_type": "code",
   "execution_count": null,
   "id": "6030f2f0",
   "metadata": {},
   "outputs": [],
   "source": []
  }
 ],
 "metadata": {
  "kernelspec": {
   "display_name": "Python 3 (ipykernel)",
   "language": "python",
   "name": "python3"
  },
  "language_info": {
   "codemirror_mode": {
    "name": "ipython",
    "version": 3
   },
   "file_extension": ".py",
   "mimetype": "text/x-python",
   "name": "python",
   "nbconvert_exporter": "python",
   "pygments_lexer": "ipython3",
   "version": "3.9.9"
  }
 },
 "nbformat": 4,
 "nbformat_minor": 5
}
