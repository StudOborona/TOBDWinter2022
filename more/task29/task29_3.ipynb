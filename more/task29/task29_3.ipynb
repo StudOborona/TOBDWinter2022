{
 "cells": [
  {
   "cell_type": "markdown",
   "id": "fac08ee5",
   "metadata": {},
   "source": [
    "3 вопрос\n",
    "В массиве чисел, хранящихся в файле random.hdf5, найти строку (вывести её индекс и содержащиеся значения), в которой более всего значений предыщающих среднее значение по всему массиву. Выполнить задание с использованием dask.array, распараллелив процесс обработки данных (использование Dask должно приводить к истинной параллелльной обработке данных)."
   ]
  },
  {
   "cell_type": "code",
   "execution_count": 1,
   "id": "86914d84",
   "metadata": {},
   "outputs": [],
   "source": [
    "import h5py\n",
    "import dask.array as da"
   ]
  },
  {
   "cell_type": "code",
   "execution_count": 5,
   "id": "434051bd",
   "metadata": {},
   "outputs": [
    {
     "data": {
      "text/plain": [
       "array([ 0.1126317 , -0.08892129, -0.93472499, ...,  0.62125385,\n",
       "        1.66630178, -1.74485418])"
      ]
     },
     "execution_count": 5,
     "metadata": {},
     "output_type": "execute_result"
    }
   ],
   "source": [
    "with h5py.File(\"./data/random.hdf5\") as fp:\n",
    "    arr_d = da.array(fp[\"data_set_1\"][:,:])\n",
    "arr_d[(arr_d > arr_d.mean()).sum(axis=1).argmax()].compute()"
   ]
  },
  {
   "cell_type": "code",
   "execution_count": null,
   "id": "bd107b01",
   "metadata": {},
   "outputs": [],
   "source": []
  }
 ],
 "metadata": {
  "kernelspec": {
   "display_name": "Python 3 (ipykernel)",
   "language": "python",
   "name": "python3"
  },
  "language_info": {
   "codemirror_mode": {
    "name": "ipython",
    "version": 3
   },
   "file_extension": ".py",
   "mimetype": "text/x-python",
   "name": "python",
   "nbconvert_exporter": "python",
   "pygments_lexer": "ipython3",
   "version": "3.9.9"
  }
 },
 "nbformat": 4,
 "nbformat_minor": 5
}
