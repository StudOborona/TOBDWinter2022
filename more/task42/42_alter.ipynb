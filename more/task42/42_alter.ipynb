{
 "cells": [
  {
   "cell_type": "code",
   "execution_count": null,
   "metadata": {},
   "outputs": [],
   "source": [
    "#Задание 2\n",
    "from bs4 import BeautifulSoup\n",
    "import json\n",
    "with open(\"addres-book-q.xml\", \"r\") as f:\n",
    "    data_xml = BeautifulSoup(f)\n",
    "\n",
    "res = {}\n",
    "for item in data_xml.find_all(\"address\"):\n",
    "    pos = item.find(\"position\").text\n",
    "    res[pos] = []\n",
    "for item in data_xml.find_all(\"address\"):\n",
    "    person = {}\n",
    "    pos = item.find(\"position\").text\n",
    "    person[\"name\"] = item.find(\"name\").text\n",
    "    person[\"company\"] = item.find(\"company\").text\n",
    "    phones = item.find_all(\"phones\")\n",
    "\n",
    "    all_phones = []\n",
    "    for phone in phones:\n",
    "        phones_data = phone.text.split(\"\\n\")\n",
    "        # print(phones_data)\n",
    "        for i in phones_data:\n",
    "            if i != \"\":\n",
    "                all_phones.append(i)\n",
    "\n",
    "    person[\"phones\"] = all_phones\n",
    "\n",
    "    res[pos].append(person)\n",
    "\n",
    "\n",
    "\n",
    "    with open(\"output.json\", \"w\") as fp:\n",
    "    json.dump(res, fp)\n",
    "\n",
    "print(res[\"Directeur General\"])\n",
    "print(res[\"Presidente\"]) "
   ]
  },
  {
   "cell_type": "code",
   "execution_count": null,
   "metadata": {},
   "outputs": [],
   "source": [
    "#Задание 3\n",
    "import dask.dataframe as dd\n",
    "accounts = dd.read_csv(\"data/accounts.*.csv\", dtype={'amount': 'float64'})\n",
    "filt = accounts[accounts['amount'] < 1500]\n",
    "filt = filt[filt['amount'] > 1000]\n",
    "filt[\"id\"].groupby(by=filt[\"id\"]).count().idxmax().compute()"
   ]
  }
 ],
 "metadata": {
  "kernelspec": {
   "display_name": "Python 3",
   "language": "python",
   "name": "python3"
  },
  "language_info": {
   "codemirror_mode": {
    "name": "ipython",
    "version": 3
   },
   "file_extension": ".py",
   "mimetype": "text/x-python",
   "name": "python",
   "nbconvert_exporter": "python",
   "pygments_lexer": "ipython3",
   "version": "3.8.5"
  }
 },
 "nbformat": 4,
 "nbformat_minor": 4
}
