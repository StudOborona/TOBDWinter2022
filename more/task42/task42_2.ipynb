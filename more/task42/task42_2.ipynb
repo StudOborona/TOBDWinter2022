{
 "cells": [
  {
   "cell_type": "markdown",
   "id": "b5eb97cd",
   "metadata": {},
   "source": [
    "По данным из файла addres-book-q.xml сформировать словарь, в котором по должности можно получить список людей с данной должностью и для каждого человека по соответствующему ключу можно получить имя, компанию и список всех доступных телефонов. Сохранить данную структуру данных в файл формата json и прочитать её, показав идентичность структуры данных после сохранения/загрузки"
   ]
  },
  {
   "cell_type": "code",
   "execution_count": 1,
   "id": "e04ad750",
   "metadata": {},
   "outputs": [],
   "source": [
    "import json\n",
    "from bs4 import BeautifulSoup"
   ]
  },
  {
   "cell_type": "code",
   "execution_count": 2,
   "id": "97d71d63",
   "metadata": {},
   "outputs": [],
   "source": [
    "class Worker:\n",
    "    def __init__(self, name, company, phones, position):\n",
    "        self._name = name\n",
    "        self._company = company\n",
    "        self._phones = phones\n",
    "        self._position = position\n",
    "        \n",
    "    def to_dict(self):\n",
    "        return {\"name\": self._name, \"company\":self._company, \"phones\": self._phones}\n",
    "    \n",
    "    @property\n",
    "    def position(self):\n",
    "        return self._position\n",
    "    \n",
    "    @property\n",
    "    def name(self):\n",
    "        return self._name"
   ]
  },
  {
   "cell_type": "code",
   "execution_count": 3,
   "id": "d9a4d6b3",
   "metadata": {},
   "outputs": [],
   "source": [
    "workers_list = []\n",
    "with open(\"./data/addres-book-q.xml\",\"r\") as file:\n",
    "    data = BeautifulSoup(file.read(), 'xml')\n",
    "    \n",
    "    for address in data.find_all(\"address\"):\n",
    "        \n",
    "        name = address.find(\"name\").get_text()\n",
    "        company = address.find(\"company\").get_text() \n",
    "        position = address.find(\"position\").get_text()\n",
    "        phones_list = [item.get_text() for item in address.find_all(\"phone\")]\n",
    "        \n",
    "        worker = Worker(name, company, phones_list, position)\n",
    "        workers_list.append(worker)"
   ]
  },
  {
   "cell_type": "code",
   "execution_count": 4,
   "id": "b179bb8c",
   "metadata": {},
   "outputs": [
    {
     "data": {
      "text/plain": [
       "{'Directeur General': [],\n",
       " 'Chef': [],\n",
       " 'Directrice Nationale': [],\n",
       " 'Secretary': [],\n",
       " 'Presidente': [],\n",
       " 'Executive Director': []}"
      ]
     },
     "execution_count": 4,
     "metadata": {},
     "output_type": "execute_result"
    }
   ],
   "source": [
    "positions_list = set([worker.position for worker in workers_list])\n",
    "result_dict = {item : [] for item in positions_list}\n",
    "result_dict"
   ]
  },
  {
   "cell_type": "code",
   "execution_count": 5,
   "id": "5d489668",
   "metadata": {},
   "outputs": [
    {
     "data": {
      "text/plain": [
       "{'Directeur General': ['Francisco Domingos'],\n",
       " 'Chef': ['Abraao Chanda'],\n",
       " 'Directrice Nationale': ['Maria Luisa'],\n",
       " 'Secretary': ['Graham John Smith'],\n",
       " 'Presidente': ['Aicha Barki'],\n",
       " 'Executive Director': ['Beatriz Busaniche', 'Francesca Beddie'],\n",
       " 'Aicha Barki': {'name': 'Aicha Barki',\n",
       "  'company': \"Association Algerienne d'Alphabetisation Iqraa\",\n",
       "  'phones': ['+ (213) 6150 4015', '+ (213) 2173 5247']},\n",
       " 'Francisco Domingos': {'name': 'Francisco Domingos',\n",
       "  'company': 'Institut National de Education des Adultes',\n",
       "  'phones': ['+ (244-2) 325 023', '+ (244-2) 325 023']},\n",
       " 'Maria Luisa': {'name': 'Maria Luisa',\n",
       "  'company': 'Institut National de Education des Adultes',\n",
       "  'phones': ['+ (244) 4232 2836']},\n",
       " 'Abraao Chanda': {'name': 'Abraao Chanda',\n",
       "  'company': 'Institut National de Education des Adultes',\n",
       "  'phones': ['+ (244-2) 325 023', '+ (244-2) 325 023']},\n",
       " 'Beatriz Busaniche': {'name': 'Beatriz Busaniche',\n",
       "  'company': 'Universidad de Buenos Aires',\n",
       "  'phones': ['+ (54-11) 4784 1159']},\n",
       " 'Francesca Beddie': {'name': 'Francesca Beddie',\n",
       "  'company': 'Adult Learning Australia',\n",
       "  'phones': ['+ (61-2) 6274 9500', '+ (61-2) 6274 9513']},\n",
       " 'Graham John Smith': {'name': 'Graham John Smith',\n",
       "  'company': 'Disability Australia Ltd',\n",
       "  'phones': ['+ (61-3) 9807 4702']}}"
      ]
     },
     "execution_count": 5,
     "metadata": {},
     "output_type": "execute_result"
    }
   ],
   "source": [
    "for worker in workers_list:\n",
    "    result_dict[worker.position].append(worker.name)\n",
    "    result_dict[worker.name] = worker.to_dict()\n",
    "result_dict\n",
    "    "
   ]
  },
  {
   "cell_type": "code",
   "execution_count": 6,
   "id": "7e2f2f10",
   "metadata": {},
   "outputs": [
    {
     "data": {
      "text/plain": [
       "{'Directeur General': ['Francisco Domingos'],\n",
       " 'Chef': ['Abraao Chanda'],\n",
       " 'Directrice Nationale': ['Maria Luisa'],\n",
       " 'Secretary': ['Graham John Smith'],\n",
       " 'Presidente': ['Aicha Barki'],\n",
       " 'Executive Director': ['Beatriz Busaniche', 'Francesca Beddie'],\n",
       " 'Aicha Barki': {'name': 'Aicha Barki',\n",
       "  'company': \"Association Algerienne d'Alphabetisation Iqraa\",\n",
       "  'phones': ['+ (213) 6150 4015', '+ (213) 2173 5247']},\n",
       " 'Francisco Domingos': {'name': 'Francisco Domingos',\n",
       "  'company': 'Institut National de Education des Adultes',\n",
       "  'phones': ['+ (244-2) 325 023', '+ (244-2) 325 023']},\n",
       " 'Maria Luisa': {'name': 'Maria Luisa',\n",
       "  'company': 'Institut National de Education des Adultes',\n",
       "  'phones': ['+ (244) 4232 2836']},\n",
       " 'Abraao Chanda': {'name': 'Abraao Chanda',\n",
       "  'company': 'Institut National de Education des Adultes',\n",
       "  'phones': ['+ (244-2) 325 023', '+ (244-2) 325 023']},\n",
       " 'Beatriz Busaniche': {'name': 'Beatriz Busaniche',\n",
       "  'company': 'Universidad de Buenos Aires',\n",
       "  'phones': ['+ (54-11) 4784 1159']},\n",
       " 'Francesca Beddie': {'name': 'Francesca Beddie',\n",
       "  'company': 'Adult Learning Australia',\n",
       "  'phones': ['+ (61-2) 6274 9500', '+ (61-2) 6274 9513']},\n",
       " 'Graham John Smith': {'name': 'Graham John Smith',\n",
       "  'company': 'Disability Australia Ltd',\n",
       "  'phones': ['+ (61-3) 9807 4702']}}"
      ]
     },
     "execution_count": 6,
     "metadata": {},
     "output_type": "execute_result"
    }
   ],
   "source": [
    "with open(\"./out/results.json\", \"w\") as file:\n",
    "    json.dump(result_dict, file)\n",
    "result_dict"
   ]
  },
  {
   "cell_type": "code",
   "execution_count": 7,
   "id": "9fbfe01a",
   "metadata": {},
   "outputs": [
    {
     "data": {
      "text/plain": [
       "{'Directeur General': ['Francisco Domingos'],\n",
       " 'Chef': ['Abraao Chanda'],\n",
       " 'Directrice Nationale': ['Maria Luisa'],\n",
       " 'Secretary': ['Graham John Smith'],\n",
       " 'Presidente': ['Aicha Barki'],\n",
       " 'Executive Director': ['Beatriz Busaniche', 'Francesca Beddie'],\n",
       " 'Aicha Barki': {'name': 'Aicha Barki',\n",
       "  'company': \"Association Algerienne d'Alphabetisation Iqraa\",\n",
       "  'phones': ['+ (213) 6150 4015', '+ (213) 2173 5247']},\n",
       " 'Francisco Domingos': {'name': 'Francisco Domingos',\n",
       "  'company': 'Institut National de Education des Adultes',\n",
       "  'phones': ['+ (244-2) 325 023', '+ (244-2) 325 023']},\n",
       " 'Maria Luisa': {'name': 'Maria Luisa',\n",
       "  'company': 'Institut National de Education des Adultes',\n",
       "  'phones': ['+ (244) 4232 2836']},\n",
       " 'Abraao Chanda': {'name': 'Abraao Chanda',\n",
       "  'company': 'Institut National de Education des Adultes',\n",
       "  'phones': ['+ (244-2) 325 023', '+ (244-2) 325 023']},\n",
       " 'Beatriz Busaniche': {'name': 'Beatriz Busaniche',\n",
       "  'company': 'Universidad de Buenos Aires',\n",
       "  'phones': ['+ (54-11) 4784 1159']},\n",
       " 'Francesca Beddie': {'name': 'Francesca Beddie',\n",
       "  'company': 'Adult Learning Australia',\n",
       "  'phones': ['+ (61-2) 6274 9500', '+ (61-2) 6274 9513']},\n",
       " 'Graham John Smith': {'name': 'Graham John Smith',\n",
       "  'company': 'Disability Australia Ltd',\n",
       "  'phones': ['+ (61-3) 9807 4702']}}"
      ]
     },
     "execution_count": 7,
     "metadata": {},
     "output_type": "execute_result"
    }
   ],
   "source": [
    "with open(\"./out/results.json\", \"r\") as file:\n",
    "    new_data = json.load(file)\n",
    "new_data"
   ]
  },
  {
   "cell_type": "code",
   "execution_count": 8,
   "id": "56dc0548",
   "metadata": {},
   "outputs": [],
   "source": [
    "assert result_dict == new_data"
   ]
  },
  {
   "cell_type": "code",
   "execution_count": null,
   "id": "75a238eb",
   "metadata": {},
   "outputs": [],
   "source": []
  }
 ],
 "metadata": {
  "kernelspec": {
   "display_name": "Python 3 (ipykernel)",
   "language": "python",
   "name": "python3"
  },
  "language_info": {
   "codemirror_mode": {
    "name": "ipython",
    "version": 3
   },
   "file_extension": ".py",
   "mimetype": "text/x-python",
   "name": "python",
   "nbconvert_exporter": "python",
   "pygments_lexer": "ipython3",
   "version": "3.9.9"
  }
 },
 "nbformat": 4,
 "nbformat_minor": 5
}
