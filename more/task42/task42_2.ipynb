{
 "cells": [
  {
   "cell_type": "code",
   "execution_count": null,
   "id": "fb831cf3",
   "metadata": {},
   "outputs": [],
   "source": [
    "Датасет: data/accounts.*csv<br>\n",
    "В accounts.*.csv найти id, для которого в столбце ammount встречается наибольшее количество значений между 1000 и 1500. Выполнить задание с использованием Dask, распаралелив процесс обработки данных. Выполнить задание с использование Dask(корректным!), распаралелив процесс обработки данных (использование Dask должно приводить к истинной паралелльной обработке данных)"
   ]
  }
 ],
 "metadata": {
  "kernelspec": {
   "display_name": "Python 3 (ipykernel)",
   "language": "python",
   "name": "python3"
  },
  "language_info": {
   "codemirror_mode": {
    "name": "ipython",
    "version": 3
   },
   "file_extension": ".py",
   "mimetype": "text/x-python",
   "name": "python",
   "nbconvert_exporter": "python",
   "pygments_lexer": "ipython3",
   "version": "3.9.9"
  }
 },
 "nbformat": 4,
 "nbformat_minor": 5
}
