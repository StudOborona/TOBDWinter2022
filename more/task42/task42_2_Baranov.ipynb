{
 "cells": [
  {
   "cell_type": "code",
   "execution_count": 19,
   "metadata": {},
   "outputs": [
    {
     "name": "stdout",
     "output_type": "stream",
     "text": [
      "[{'name': 'Francisco Domingos', 'company': 'Institut National de Education des Adultes', 'phones': ['+ (244-2) 325 023', '+ (244-2) 325 023']}]\n",
      "[{'name': 'Aicha Barki', 'company': \"Association Algerienne d'Alphabetisation Iqraa\", 'phones': ['+ (213) 6150 4015', '+ (213) 2173 5247']}]\n"
     ]
    }
   ],
   "source": [
    "from bs4 import BeautifulSoup\n",
    "import json\n",
    "with open(\"addres-book-q.xml\", \"r\") as f:\n",
    "    data_xml = BeautifulSoup(f)\n",
    "\n",
    "res = {}\n",
    "for item in data_xml.find_all(\"address\"):\n",
    "    pos = item.find(\"position\").text\n",
    "    res[pos] = []\n",
    "\n",
    " \n",
    "for item in data_xml.find_all(\"address\"):\n",
    "    person = {}\n",
    "    pos = item.find(\"position\").text\n",
    "    person[\"name\"] = item.find(\"name\").text\n",
    "    person[\"company\"] = item.find(\"company\").text\n",
    "    phones = item.find_all(\"phones\")\n",
    "\n",
    "    all_phones = []\n",
    "    for phone in phones:\n",
    "        phones_data = phone.text.split(\"\\n\")\n",
    "        # print(phones_data)\n",
    "        for i in phones_data:\n",
    "            if i != \"\":\n",
    "                all_phones.append(i)\n",
    "\n",
    "    person[\"phones\"] = all_phones\n",
    "\n",
    "    res[pos].append(person)\n",
    "\n",
    "\n",
    "\n",
    "with open(\"output.json\", \"w\") as fp:\n",
    "    json.dump(res, fp)\n",
    "\n",
    "print(res[\"Directeur General\"])\n",
    "print(res[\"Presidente\"])\n"
   ]
  },
  {
   "cell_type": "code",
   "execution_count": null,
   "metadata": {},
   "outputs": [],
   "source": []
  }
 ],
 "metadata": {
  "interpreter": {
   "hash": "aee8b7b246df8f9039afb4144a1f6fd8d2ca17a180786b69acc140d282b71a49"
  },
  "kernelspec": {
   "display_name": "Python 3.9.9 64-bit",
   "language": "python",
   "name": "python3"
  },
  "language_info": {
   "codemirror_mode": {
    "name": "ipython",
    "version": 3
   },
   "file_extension": ".py",
   "mimetype": "text/x-python",
   "name": "python",
   "nbconvert_exporter": "python",
   "pygments_lexer": "ipython3",
   "version": "3.9.9"
  },
  "orig_nbformat": 4
 },
 "nbformat": 4,
 "nbformat_minor": 2
}
