{
 "cells": [
  {
   "cell_type": "markdown",
   "metadata": {},
   "source": [
    "### Задание 2"
   ]
  },
  {
   "cell_type": "code",
   "execution_count": 11,
   "metadata": {},
   "outputs": [],
   "source": [
    "from bs4 import BeautifulSoup\n",
    "\n",
    "with open(\"addres-book-q.xml\") as file:\n",
    "    data = BeautifulSoup(file, 'xml')"
   ]
  },
  {
   "cell_type": "code",
   "execution_count": 34,
   "metadata": {},
   "outputs": [
    {
     "data": {
      "text/plain": [
       "{'Presidente': [{'name': 'Aicha Barki',\n",
       "   'company': \"Association Algerienne d'Alphabetisation Iqraa\",\n",
       "   'phones': ['+ (213) 6150 4015', '+ (213) 2173 5247']}],\n",
       " 'Directeur General': [{'name': 'Francisco Domingos',\n",
       "   'company': 'Institut National de Education des Adultes',\n",
       "   'phones': ['+ (244-2) 325 023', '+ (244-2) 325 023']}],\n",
       " 'Directrice Nationale': [{'name': 'Maria Luisa',\n",
       "   'company': 'Institut National de Education des Adultes',\n",
       "   'phones': ['+ (244) 4232 2836']}],\n",
       " 'Chef': [{'name': 'Abraao Chanda',\n",
       "   'company': 'Institut National de Education des Adultes',\n",
       "   'phones': ['+ (244-2) 325 023', '+ (244-2) 325 023']}],\n",
       " 'Executive Director': [{'name': 'Beatriz Busaniche',\n",
       "   'company': 'Universidad de Buenos Aires',\n",
       "   'phones': ['+ (54-11) 4784 1159']},\n",
       "  {'name': 'Francesca Beddie',\n",
       "   'company': 'Adult Learning Australia',\n",
       "   'phones': ['+ (61-2) 6274 9500', '+ (61-2) 6274 9513']}],\n",
       " 'Secretary': [{'name': 'Graham John Smith',\n",
       "   'company': 'Disability Australia Ltd',\n",
       "   'phones': ['+ (61-3) 9807 4702']}]}"
      ]
     },
     "execution_count": 34,
     "metadata": {},
     "output_type": "execute_result"
    }
   ],
   "source": [
    "d = {}\n",
    "for adress in data.find_all(\"address\"):\n",
    "    temp_d = {}\n",
    "    temp_d['name'] = adress.find_all('name')[0].text\n",
    "    temp_d['company'] = adress.company.text\n",
    "    temp_d['phones'] = [p.text for p in adress.find_all('phone')]\n",
    "    pos = adress.position.text\n",
    "    d[pos] = d.get(pos, []) + [temp_d]\n",
    "d"
   ]
  },
  {
   "cell_type": "code",
   "execution_count": 35,
   "metadata": {},
   "outputs": [],
   "source": [
    "import json\n",
    "with open(\"result.json\", 'w') as file:\n",
    "    file.write(json.dumps(d))"
   ]
  },
  {
   "cell_type": "code",
   "execution_count": 36,
   "metadata": {},
   "outputs": [
    {
     "data": {
      "text/plain": [
       "{'Presidente': [{'name': 'Aicha Barki',\n",
       "   'company': \"Association Algerienne d'Alphabetisation Iqraa\",\n",
       "   'phones': ['+ (213) 6150 4015', '+ (213) 2173 5247']}],\n",
       " 'Directeur General': [{'name': 'Francisco Domingos',\n",
       "   'company': 'Institut National de Education des Adultes',\n",
       "   'phones': ['+ (244-2) 325 023', '+ (244-2) 325 023']}],\n",
       " 'Directrice Nationale': [{'name': 'Maria Luisa',\n",
       "   'company': 'Institut National de Education des Adultes',\n",
       "   'phones': ['+ (244) 4232 2836']}],\n",
       " 'Chef': [{'name': 'Abraao Chanda',\n",
       "   'company': 'Institut National de Education des Adultes',\n",
       "   'phones': ['+ (244-2) 325 023', '+ (244-2) 325 023']}],\n",
       " 'Executive Director': [{'name': 'Beatriz Busaniche',\n",
       "   'company': 'Universidad de Buenos Aires',\n",
       "   'phones': ['+ (54-11) 4784 1159']},\n",
       "  {'name': 'Francesca Beddie',\n",
       "   'company': 'Adult Learning Australia',\n",
       "   'phones': ['+ (61-2) 6274 9500', '+ (61-2) 6274 9513']}],\n",
       " 'Secretary': [{'name': 'Graham John Smith',\n",
       "   'company': 'Disability Australia Ltd',\n",
       "   'phones': ['+ (61-3) 9807 4702']}]}"
      ]
     },
     "execution_count": 36,
     "metadata": {},
     "output_type": "execute_result"
    }
   ],
   "source": [
    "with open(\"result.json\", \"r\") as file:\n",
    "    new_d = json.load(file)\n",
    "new_d"
   ]
  },
  {
   "cell_type": "markdown",
   "metadata": {},
   "source": [
    "### Задание 3"
   ]
  },
  {
   "cell_type": "code",
   "execution_count": 56,
   "metadata": {},
   "outputs": [
    {
     "data": {
      "text/html": [
       "<div>\n",
       "<style scoped>\n",
       "    .dataframe tbody tr th:only-of-type {\n",
       "        vertical-align: middle;\n",
       "    }\n",
       "\n",
       "    .dataframe tbody tr th {\n",
       "        vertical-align: top;\n",
       "    }\n",
       "\n",
       "    .dataframe thead th {\n",
       "        text-align: right;\n",
       "    }\n",
       "</style>\n",
       "<table border=\"1\" class=\"dataframe\">\n",
       "  <thead>\n",
       "    <tr style=\"text-align: right;\">\n",
       "      <th></th>\n",
       "      <th>amount</th>\n",
       "    </tr>\n",
       "    <tr>\n",
       "      <th>id</th>\n",
       "      <th></th>\n",
       "    </tr>\n",
       "  </thead>\n",
       "  <tbody>\n",
       "    <tr>\n",
       "      <th>165</th>\n",
       "      <td>199706820</td>\n",
       "    </tr>\n",
       "  </tbody>\n",
       "</table>\n",
       "</div>"
      ],
      "text/plain": [
       "        amount\n",
       "id            \n",
       "165  199706820"
      ]
     },
     "execution_count": 56,
     "metadata": {},
     "output_type": "execute_result"
    }
   ],
   "source": [
    "import dask.dataframe as dd\n",
    "\n",
    "df = dd.read_csv('data/accounts.*.csv').groupby('id').sum()\n",
    "df = (df[df['amount'] == df['amount'].max()]).compute()\n",
    "df"
   ]
  },
  {
   "cell_type": "code",
   "execution_count": 55,
   "metadata": {},
   "outputs": [
    {
     "data": {
      "text/plain": [
       "165"
      ]
     },
     "execution_count": 55,
     "metadata": {},
     "output_type": "execute_result"
    }
   ],
   "source": [
    "df.index.values[0]"
   ]
  }
 ],
 "metadata": {
  "kernelspec": {
   "display_name": "Python 3",
   "language": "python",
   "name": "python3"
  },
  "language_info": {
   "codemirror_mode": {
    "name": "ipython",
    "version": 3
   },
   "file_extension": ".py",
   "mimetype": "text/x-python",
   "name": "python",
   "nbconvert_exporter": "python",
   "pygments_lexer": "ipython3",
   "version": "3.8.5"
  }
 },
 "nbformat": 4,
 "nbformat_minor": 4
}
