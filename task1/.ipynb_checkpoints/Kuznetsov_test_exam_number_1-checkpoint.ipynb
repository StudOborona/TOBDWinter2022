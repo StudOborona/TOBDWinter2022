{
 "cells": [
  {
   "cell_type": "markdown",
   "metadata": {},
   "source": [
    "### Задача"
   ]
  },
  {
   "cell_type": "markdown",
   "metadata": {},
   "source": [
    "1. Задан двухмерный массив ar1 размерности (10, 10), состоящий из случайных целых чисел в пределах от 0 до 15. Вычислить разность s_odd - s_even, где s_odd - сумма элементов, стоящих на позиции (x, y), где (x + y) является нечетным числом; s_even - сумма элементов, стоящих на позиции (x, y), где (x + y) является четным числом.\n",
    "Решить задачу средствами numpy и/или pandas. Не использовать циклы и конструкции стандартного Python там, где можно использовать возможности данных библиотек\n"
   ]
  },
  {
   "cell_type": "code",
   "execution_count": 1,
   "metadata": {},
   "outputs": [],
   "source": [
    "import numpy as np"
   ]
  },
  {
   "cell_type": "code",
   "execution_count": 2,
   "metadata": {},
   "outputs": [
    {
     "data": {
      "text/plain": [
       "array([[10,  1,  7,  6, 11,  0,  4, 13, 12,  4],\n",
       "       [ 2, 13,  7,  3,  0,  2,  3,  1,  6, 11],\n",
       "       [12,  4, 15,  5,  8,  2, 15,  4, 13, 11],\n",
       "       [ 9, 13,  2,  0,  7,  8,  4,  0,  0,  7],\n",
       "       [ 8, 10, 14, 14,  4,  7, 15,  4,  8,  8],\n",
       "       [ 8, 15,  2,  5,  9,  3, 14,  2,  7, 15],\n",
       "       [ 0,  8, 14,  2, 15,  1,  0,  2, 14, 11],\n",
       "       [ 6,  6,  3,  6,  2,  4,  5,  3, 12,  0],\n",
       "       [ 8, 11,  8, 12, 11, 12,  7,  8,  1,  6],\n",
       "       [ 2, 13, 14, 14, 14, 10,  7,  6, 15, 13]])"
      ]
     },
     "execution_count": 2,
     "metadata": {},
     "output_type": "execute_result"
    }
   ],
   "source": [
    "arr = np.random.randint(low=0, high=16, size=(10, 10))\n",
    "arr"
   ]
  },
  {
   "cell_type": "code",
   "execution_count": 3,
   "metadata": {},
   "outputs": [
    {
     "data": {
      "text/plain": [
       "array([[10,  1,  7,  6, 11,  0,  4, 13, 12,  4],\n",
       "       [12,  4, 15,  5,  8,  2, 15,  4, 13, 11],\n",
       "       [ 8, 10, 14, 14,  4,  7, 15,  4,  8,  8],\n",
       "       [ 0,  8, 14,  2, 15,  1,  0,  2, 14, 11],\n",
       "       [ 8, 11,  8, 12, 11, 12,  7,  8,  1,  6]])"
      ]
     },
     "execution_count": 3,
     "metadata": {},
     "output_type": "execute_result"
    }
   ],
   "source": [
    "arr[::2]"
   ]
  },
  {
   "cell_type": "code",
   "execution_count": 4,
   "metadata": {},
   "outputs": [
    {
     "data": {
      "text/plain": [
       "array([[ 2, 13,  7,  3,  0,  2,  3,  1,  6, 11],\n",
       "       [ 9, 13,  2,  0,  7,  8,  4,  0,  0,  7],\n",
       "       [ 8, 15,  2,  5,  9,  3, 14,  2,  7, 15],\n",
       "       [ 6,  6,  3,  6,  2,  4,  5,  3, 12,  0],\n",
       "       [ 2, 13, 14, 14, 14, 10,  7,  6, 15, 13]])"
      ]
     },
     "execution_count": 4,
     "metadata": {},
     "output_type": "execute_result"
    }
   ],
   "source": [
    "arr[1::2]"
   ]
  },
  {
   "cell_type": "code",
   "execution_count": 5,
   "metadata": {},
   "outputs": [
    {
     "data": {
      "text/plain": [
       "407"
      ]
     },
     "execution_count": 5,
     "metadata": {},
     "output_type": "execute_result"
    }
   ],
   "source": [
    "s_even = np.sum([arr[::2,::2], arr[1::2,1::2]])\n",
    "s_even"
   ]
  },
  {
   "cell_type": "code",
   "execution_count": 6,
   "metadata": {},
   "outputs": [
    {
     "data": {
      "text/plain": [
       "326"
      ]
     },
     "execution_count": 6,
     "metadata": {},
     "output_type": "execute_result"
    }
   ],
   "source": [
    "s_odd = np.sum([arr[1::2,::2], arr[::2,1::2]])\n",
    "s_odd"
   ]
  },
  {
   "cell_type": "code",
   "execution_count": 7,
   "metadata": {},
   "outputs": [
    {
     "data": {
      "text/plain": [
       "-81"
      ]
     },
     "execution_count": 7,
     "metadata": {},
     "output_type": "execute_result"
    }
   ],
   "source": [
    "s_odd - s_even"
   ]
  },
  {
   "cell_type": "markdown",
   "metadata": {},
   "source": [
    "### Проверка решения"
   ]
  },
  {
   "cell_type": "code",
   "execution_count": 8,
   "metadata": {},
   "outputs": [],
   "source": [
    "s_odd_check = 0\n",
    "s_even_check = 0\n",
    "for i in range(arr.shape[0]):\n",
    "    for j in range(arr.shape[1]):\n",
    "        if (np.sum([i,j])%2 == 1):\n",
    "            s_odd_check+=arr[i][j]\n",
    "        else:\n",
    "            s_even_check+=arr[i][j]"
   ]
  },
  {
   "cell_type": "code",
   "execution_count": 9,
   "metadata": {},
   "outputs": [],
   "source": [
    "assert s_odd_check == s_odd"
   ]
  },
  {
   "cell_type": "code",
   "execution_count": 10,
   "metadata": {},
   "outputs": [],
   "source": [
    "assert s_even_check == s_even_check"
   ]
  },
  {
   "cell_type": "code",
   "execution_count": null,
   "metadata": {},
   "outputs": [],
   "source": []
  }
 ],
 "metadata": {
  "kernelspec": {
   "display_name": "Python 3 (ipykernel)",
   "language": "python",
   "name": "python3"
  },
  "language_info": {
   "codemirror_mode": {
    "name": "ipython",
    "version": 3
   },
   "file_extension": ".py",
   "mimetype": "text/x-python",
   "name": "python",
   "nbconvert_exporter": "python",
   "pygments_lexer": "ipython3",
   "version": "3.9.9"
  }
 },
 "nbformat": 4,
 "nbformat_minor": 4
}
