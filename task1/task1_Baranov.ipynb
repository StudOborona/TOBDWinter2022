{
 "cells": [
  {
   "cell_type": "markdown",
   "metadata": {},
   "source": [
    "1. Задан двухмерный массив ar1 размерности (10, 10), состоящий из случайных целых чисел в пределах от 0 до 15. Вычислить разность s_odd - s_even, где s_odd - сумма элементов, стоящих на позиции (x, y), где (x + y) является нечетным числом; s_even - сумма элементов, стоящих на позиции (x, y), где (x + y) является четным числом.\n",
    "Решить задачу средствами numpy и/или pandas. Не использовать циклы и конструкции стандартного Python там, где можно использовать возможности данных библиотек\n"
   ]
  },
  {
   "cell_type": "code",
   "execution_count": 53,
   "metadata": {},
   "outputs": [
    {
     "data": {
      "text/plain": [
       "array([[15,  2,  4,  6,  4,  0, 13,  0, 14, 12],\n",
       "       [12,  1,  5,  1,  3,  6,  4, 15,  8, 14],\n",
       "       [ 8, 11,  5,  3, 15, 15,  4, 12,  3, 11],\n",
       "       [ 2,  0,  9,  8, 12,  5,  9,  8, 15,  3],\n",
       "       [ 9, 10, 10, 11,  1, 12,  4,  7, 14, 10],\n",
       "       [ 6,  9, 15, 12, 12,  9, 12, 14,  3,  8],\n",
       "       [12,  1,  2,  7,  9,  6, 13,  0,  3,  7],\n",
       "       [ 3,  2,  3,  4, 11,  7,  1,  2,  0,  5],\n",
       "       [ 6, 12, 13, 12, 11,  6,  9,  7,  7,  6],\n",
       "       [15, 14,  9,  6,  0, 15, 15,  7, 10,  4]])"
      ]
     },
     "execution_count": 53,
     "metadata": {},
     "output_type": "execute_result"
    }
   ],
   "source": [
    "import numpy as np\n",
    "\n",
    "ar1 = np.random.randint(0, 16, size=(10, 10))\n",
    "ar1"
   ]
  },
  {
   "cell_type": "code",
   "execution_count": 54,
   "metadata": {},
   "outputs": [
    {
     "data": {
      "text/plain": [
       "387"
      ]
     },
     "execution_count": 54,
     "metadata": {},
     "output_type": "execute_result"
    }
   ],
   "source": [
    "s_even = np.sum([ar1[::2, ::2], ar1[1::2, 1::2]]) #четн\n",
    "s_even"
   ]
  },
  {
   "cell_type": "code",
   "execution_count": 55,
   "metadata": {},
   "outputs": [
    {
     "data": {
      "text/plain": [
       "380"
      ]
     },
     "execution_count": 55,
     "metadata": {},
     "output_type": "execute_result"
    }
   ],
   "source": [
    "s_odd = np.sum([ar1[1::2, ::2], ar1[::2, 1::2]]) #нечетн\n",
    "s_odd"
   ]
  },
  {
   "cell_type": "code",
   "execution_count": 56,
   "metadata": {},
   "outputs": [
    {
     "data": {
      "text/plain": [
       "-7"
      ]
     },
     "execution_count": 56,
     "metadata": {},
     "output_type": "execute_result"
    }
   ],
   "source": [
    "s_odd-s_even"
   ]
  }
 ],
 "metadata": {
  "interpreter": {
   "hash": "aee8b7b246df8f9039afb4144a1f6fd8d2ca17a180786b69acc140d282b71a49"
  },
  "kernelspec": {
   "display_name": "Python 3.9.9 64-bit",
   "language": "python",
   "name": "python3"
  },
  "language_info": {
   "codemirror_mode": {
    "name": "ipython",
    "version": 3
   },
   "file_extension": ".py",
   "mimetype": "text/x-python",
   "name": "python",
   "nbconvert_exporter": "python",
   "pygments_lexer": "ipython3",
   "version": "3.9.9"
  },
  "orig_nbformat": 4
 },
 "nbformat": 4,
 "nbformat_minor": 2
}
