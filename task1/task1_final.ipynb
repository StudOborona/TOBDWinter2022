{
 "cells": [
  {
   "cell_type": "markdown",
   "metadata": {},
   "source": [
    "### Задача 1"
   ]
  },
  {
   "cell_type": "markdown",
   "metadata": {},
   "source": [
    "Задан двухмерный массив ar1 размерности (10, 10), состоящий из случайных целых чисел в пределах от 0 до 15. Вычислить разность s_odd - s_even, где s_odd - сумма элементов, стоящих на позиции (x, y), где (x + y) является нечетным числом; s_even - сумма элементов, стоящих на позиции (x, y), где (x + y) является четным числом.\n",
    "Решить задачу средствами numpy и/или pandas. Не использовать циклы и конструкции стандартного Python там, где можно использовать возможности данных библиотек\n"
   ]
  },
  {
   "cell_type": "code",
   "execution_count": 1,
   "metadata": {},
   "outputs": [],
   "source": [
    "import numpy as np"
   ]
  },
  {
   "cell_type": "code",
   "execution_count": 2,
   "metadata": {},
   "outputs": [
    {
     "data": {
      "text/plain": [
       "array([[ 9, 14, 11, 14,  5,  1, 10, 14, 12,  2],\n",
       "       [14,  2, 12,  2,  3,  6,  3,  8,  3,  5],\n",
       "       [ 0, 13,  1,  4, 15, 11, 14, 13,  7, 14],\n",
       "       [14, 14,  9, 15,  6,  9,  3, 10, 15, 10],\n",
       "       [ 5,  0,  3,  9,  8,  5,  6,  0,  7,  3],\n",
       "       [13, 10, 15, 11,  7,  1, 15, 11,  2,  7],\n",
       "       [ 4, 13,  7,  4,  6,  1, 11, 14,  4,  7],\n",
       "       [ 7,  1,  8,  2,  5,  5,  8, 11, 15,  8],\n",
       "       [14,  1,  0,  9, 11, 13, 15, 10, 11,  3],\n",
       "       [11,  5, 10, 13,  8, 14,  1, 11,  9,  4]])"
      ]
     },
     "execution_count": 2,
     "metadata": {},
     "output_type": "execute_result"
    }
   ],
   "source": [
    "#Создаем массив 10x10 с числами от 0 до 15\n",
    "ar1 = np.random.randint(low=0, high=16, size=(10, 10))\n",
    "ar1"
   ]
  },
  {
   "cell_type": "code",
   "execution_count": 3,
   "metadata": {},
   "outputs": [
    {
     "data": {
      "text/plain": [
       "array([[ 9, 14, 11, 14,  5,  1, 10, 14, 12,  2],\n",
       "       [ 0, 13,  1,  4, 15, 11, 14, 13,  7, 14],\n",
       "       [ 5,  0,  3,  9,  8,  5,  6,  0,  7,  3],\n",
       "       [ 4, 13,  7,  4,  6,  1, 11, 14,  4,  7],\n",
       "       [14,  1,  0,  9, 11, 13, 15, 10, 11,  3]])"
      ]
     },
     "execution_count": 3,
     "metadata": {},
     "output_type": "execute_result"
    }
   ],
   "source": [
    "ar1[::2]"
   ]
  },
  {
   "cell_type": "code",
   "execution_count": 4,
   "metadata": {},
   "outputs": [
    {
     "data": {
      "text/plain": [
       "array([[14,  2, 12,  2,  3,  6,  3,  8,  3,  5],\n",
       "       [14, 14,  9, 15,  6,  9,  3, 10, 15, 10],\n",
       "       [13, 10, 15, 11,  7,  1, 15, 11,  2,  7],\n",
       "       [ 7,  1,  8,  2,  5,  5,  8, 11, 15,  8],\n",
       "       [11,  5, 10, 13,  8, 14,  1, 11,  9,  4]])"
      ]
     },
     "execution_count": 4,
     "metadata": {},
     "output_type": "execute_result"
    }
   ],
   "source": [
    "ar1[1::2]"
   ]
  },
  {
   "cell_type": "code",
   "execution_count": 5,
   "metadata": {},
   "outputs": [
    {
     "data": {
      "text/plain": [
       "391"
      ]
     },
     "execution_count": 5,
     "metadata": {},
     "output_type": "execute_result"
    }
   ],
   "source": [
    "#s_even - сумма элементов, стоящих на позиции (x, y), где (x + y) является четным числом\n",
    "s_even = np.sum([ar1[::2,::2], ar1[1::2,1::2]]) #четн\n",
    "s_even"
   ]
  },
  {
   "cell_type": "code",
   "execution_count": 6,
   "metadata": {},
   "outputs": [
    {
     "data": {
      "text/plain": [
       "408"
      ]
     },
     "execution_count": 6,
     "metadata": {},
     "output_type": "execute_result"
    }
   ],
   "source": [
    "#s_odd - сумма элементов, стоящих на позиции (x, y), где (x + y) является нечетным числом\n",
    "s_odd = np.sum([ar1[1::2,::2], ar1[::2,1::2]]) #нечетн\n",
    "s_odd"
   ]
  },
  {
   "cell_type": "code",
   "execution_count": 7,
   "metadata": {},
   "outputs": [
    {
     "data": {
      "text/plain": [
       "17"
      ]
     },
     "execution_count": 7,
     "metadata": {},
     "output_type": "execute_result"
    }
   ],
   "source": [
    "s_odd - s_even"
   ]
  },
  {
   "cell_type": "markdown",
   "metadata": {},
   "source": [
    "### Проверка решения"
   ]
  },
  {
   "cell_type": "code",
   "execution_count": 8,
   "metadata": {},
   "outputs": [],
   "source": [
    "s_odd_check = 0\n",
    "s_even_check = 0\n",
    "\n",
    "for i in range(ar1.shape[0]):\n",
    "    for j in range(ar1.shape[1]):\n",
    "        if (np.sum([i,j]) % 2 == 1):\n",
    "            s_odd_check += ar1[i][j]\n",
    "        else:\n",
    "            s_even_check += ar1[i][j]"
   ]
  },
  {
   "cell_type": "code",
   "execution_count": 9,
   "metadata": {},
   "outputs": [],
   "source": [
    "assert s_odd_check == s_odd"
   ]
  },
  {
   "cell_type": "code",
   "execution_count": 10,
   "metadata": {},
   "outputs": [],
   "source": [
    "assert s_even_check == s_even_check"
   ]
  },
  {
   "cell_type": "code",
   "execution_count": null,
   "metadata": {},
   "outputs": [],
   "source": []
  }
 ],
 "metadata": {
  "kernelspec": {
   "display_name": "Python 3 (ipykernel)",
   "language": "python",
   "name": "python3"
  },
  "language_info": {
   "codemirror_mode": {
    "name": "ipython",
    "version": 3
   },
   "file_extension": ".py",
   "mimetype": "text/x-python",
   "name": "python",
   "nbconvert_exporter": "python",
   "pygments_lexer": "ipython3",
   "version": "3.9.9"
  }
 },
 "nbformat": 4,
 "nbformat_minor": 4
}
