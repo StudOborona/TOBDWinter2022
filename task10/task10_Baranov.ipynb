{
 "cells": [
  {
   "cell_type": "markdown",
   "metadata": {},
   "source": [
    "10. Создайте dask.array размерности 10 тыс на 5, заполненный случайными целыми числами на отрезке [0, 10]. Создайте версию этого массива, оставив только строки, в которых есть число 7"
   ]
  },
  {
   "cell_type": "code",
   "execution_count": 25,
   "metadata": {},
   "outputs": [
    {
     "data": {
      "text/plain": [
       "array([[ 4,  7,  0,  4,  4],\n",
       "       [ 0,  1,  3,  0,  1],\n",
       "       [ 0,  3, 10,  0,  2],\n",
       "       ...,\n",
       "       [ 2,  2,  2,  9,  2],\n",
       "       [ 8,  1,  4,  2,  1],\n",
       "       [ 6,  0,  4,  4,  5]])"
      ]
     },
     "execution_count": 25,
     "metadata": {},
     "output_type": "execute_result"
    }
   ],
   "source": [
    "import dask.array as da\n",
    "import dask.dataframe as dd\n",
    "import numpy as np\n",
    "da_arr = da.random.randint(11, size=(10000, 5)) # 11 т.к. отрезок [0, 10] \n",
    "da_arr.compute()"
   ]
  },
  {
   "cell_type": "code",
   "execution_count": 26,
   "metadata": {},
   "outputs": [
    {
     "data": {
      "text/plain": [
       "array([[ 4,  7,  0,  4,  4],\n",
       "       [ 7,  8,  1,  8,  6],\n",
       "       [ 2,  2,  9,  7, 10],\n",
       "       ...,\n",
       "       [ 4,  7,  4,  9,  9],\n",
       "       [ 1, 10,  4,  7,  9],\n",
       "       [ 3,  7,  8,  5,  8]])"
      ]
     },
     "execution_count": 26,
     "metadata": {},
     "output_type": "execute_result"
    }
   ],
   "source": [
    "\n",
    "da_arr[(da_arr[:, :] == 7).any(axis=1).compute()].compute()"
   ]
  }
 ],
 "metadata": {
  "interpreter": {
   "hash": "aee8b7b246df8f9039afb4144a1f6fd8d2ca17a180786b69acc140d282b71a49"
  },
  "kernelspec": {
   "display_name": "Python 3.9.9 64-bit",
   "language": "python",
   "name": "python3"
  },
  "language_info": {
   "codemirror_mode": {
    "name": "ipython",
    "version": 3
   },
   "file_extension": ".py",
   "mimetype": "text/x-python",
   "name": "python",
   "nbconvert_exporter": "python",
   "pygments_lexer": "ipython3",
   "version": "3.9.9"
  },
  "orig_nbformat": 4
 },
 "nbformat": 4,
 "nbformat_minor": 2
}
