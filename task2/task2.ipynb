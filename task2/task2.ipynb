{
 "cells": [
  {
   "cell_type": "markdown",
   "id": "07ec7783",
   "metadata": {},
   "source": [
    "# Задача 2"
   ]
  },
  {
   "cell_type": "markdown",
   "id": "caaa1452",
   "metadata": {},
   "source": [
    "2 Датасет: Chinook_Sqlite.sqlite<br>\n",
    "С помощью кода на Python с использованием sqlite3 и SQL решить задачу. Реализовать функции на\n",
    "Python:\n",
    "\n",
    "1 Которая возвращает все имеющиеся жанры.\n",
    "\n",
    "2 Которая возвращает ID жанров, в которых написано более 100 треков, и их (жанров) название.\n"
   ]
  },
  {
   "cell_type": "code",
   "execution_count": 1,
   "id": "b254f720",
   "metadata": {},
   "outputs": [],
   "source": [
    "import sqlite3"
   ]
  },
  {
   "cell_type": "code",
   "execution_count": 2,
   "id": "a366d39b",
   "metadata": {},
   "outputs": [],
   "source": [
    "def get_genres(cursor: sqlite3.Cursor) -> list:\n",
    "    \"\"\"Функция для получения списка жанров из курсора sqlite3\"\"\"\n",
    "    #Выполняем SQL запрос через курсор\n",
    "    cursor.execute(\"SELECT Name FROM Genre\")\n",
    "    #С помощью cur.fetchall() получаем все жанры\n",
    "    buffer = cursor.fetchall()\n",
    "    #Возвращаем результат в едином списке\n",
    "    return [item[0] for item in buffer]"
   ]
  },
  {
   "cell_type": "code",
   "execution_count": 3,
   "id": "443d4e4f",
   "metadata": {},
   "outputs": [],
   "source": [
    "def get_popular_genres_id(cursor: sqlite3.Cursor) -> list:\n",
    "    \"\"\"Получение id жанров, в которых написано более 100 треков \"\"\"\n",
    "    cursor.execute('''\n",
    "        SELECT Genre.GenreId, Genre.Name FROM Genre\n",
    "        LEFT JOIN Track\n",
    "        ON Genre.GenreId = Track.GenreId\n",
    "        GROUP BY Genre.GenreId\n",
    "        HAVING COUNT(Track.GenreId) > 100\n",
    "    ''')\n",
    "    return cursor.fetchall()"
   ]
  },
  {
   "cell_type": "markdown",
   "id": "37b4e2b6",
   "metadata": {},
   "source": [
    "### Получение всех имеющихся жанров"
   ]
  },
  {
   "cell_type": "code",
   "execution_count": 4,
   "id": "e20142b4",
   "metadata": {},
   "outputs": [
    {
     "data": {
      "text/plain": [
       "['Rock',\n",
       " 'Jazz',\n",
       " 'Metal',\n",
       " 'Alternative & Punk',\n",
       " 'Rock And Roll',\n",
       " 'Blues',\n",
       " 'Latin',\n",
       " 'Reggae',\n",
       " 'Pop',\n",
       " 'Soundtrack',\n",
       " 'Bossa Nova',\n",
       " 'Easy Listening',\n",
       " 'Heavy Metal',\n",
       " 'R&B/Soul',\n",
       " 'Electronica/Dance',\n",
       " 'World',\n",
       " 'Hip Hop/Rap',\n",
       " 'Science Fiction',\n",
       " 'TV Shows',\n",
       " 'Sci Fi & Fantasy',\n",
       " 'Drama',\n",
       " 'Comedy',\n",
       " 'Alternative',\n",
       " 'Classical',\n",
       " 'Opera']"
      ]
     },
     "execution_count": 4,
     "metadata": {},
     "output_type": "execute_result"
    }
   ],
   "source": [
    "connection = sqlite3.connect(\"./data/Chinook_Sqlite.sqlite\")\n",
    "cursor = connection.cursor()\n",
    "get_genres(cursor)"
   ]
  },
  {
   "cell_type": "markdown",
   "id": "747c69d9",
   "metadata": {},
   "source": [
    "### Которая возвращает ID жанров, в которых написано более 100 треков, и их (жанров) название."
   ]
  },
  {
   "cell_type": "code",
   "execution_count": 5,
   "id": "954b5a8a",
   "metadata": {},
   "outputs": [
    {
     "data": {
      "text/plain": [
       "[(1, 'Rock'),\n",
       " (2, 'Jazz'),\n",
       " (3, 'Metal'),\n",
       " (4, 'Alternative & Punk'),\n",
       " (7, 'Latin')]"
      ]
     },
     "execution_count": 5,
     "metadata": {},
     "output_type": "execute_result"
    }
   ],
   "source": [
    "get_popular_genres_id(cursor)"
   ]
  },
  {
   "cell_type": "code",
   "execution_count": null,
   "id": "71e7547c",
   "metadata": {},
   "outputs": [],
   "source": []
  }
 ],
 "metadata": {
  "kernelspec": {
   "display_name": "Python 3 (ipykernel)",
   "language": "python",
   "name": "python3"
  },
  "language_info": {
   "codemirror_mode": {
    "name": "ipython",
    "version": 3
   },
   "file_extension": ".py",
   "mimetype": "text/x-python",
   "name": "python",
   "nbconvert_exporter": "python",
   "pygments_lexer": "ipython3",
   "version": "3.9.9"
  }
 },
 "nbformat": 4,
 "nbformat_minor": 5
}
