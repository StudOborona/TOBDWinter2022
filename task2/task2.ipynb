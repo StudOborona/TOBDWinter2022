{
 "cells": [
  {
   "cell_type": "markdown",
   "id": "07ec7783",
   "metadata": {},
   "source": [
    "2 Датасет: Chinook_Sqlite.sqlite\n",
    "С помощью кода на Python с использованием sqlite3 и SQL решить задачу. Реализовать функции на\n",
    "Python:\n",
    "\n",
    "1 Которая возвращает все имеющиеся жанры.\n",
    "\n",
    "2 Которая возвращает ID жанров, в которых написано более 100 треков, и их (жанров) название.\n"
   ]
  },
  {
   "cell_type": "code",
   "execution_count": 3,
   "id": "b254f720",
   "metadata": {},
   "outputs": [],
   "source": [
    "import sqlite3"
   ]
  },
  {
   "cell_type": "code",
   "execution_count": 5,
   "id": "e20142b4",
   "metadata": {},
   "outputs": [
    {
     "data": {
      "text/plain": [
       "[('Rock',),\n",
       " ('Jazz',),\n",
       " ('Metal',),\n",
       " ('Alternative & Punk',),\n",
       " ('Rock And Roll',),\n",
       " ('Blues',),\n",
       " ('Latin',),\n",
       " ('Reggae',),\n",
       " ('Pop',),\n",
       " ('Soundtrack',),\n",
       " ('Bossa Nova',),\n",
       " ('Easy Listening',),\n",
       " ('Heavy Metal',),\n",
       " ('R&B/Soul',),\n",
       " ('Electronica/Dance',),\n",
       " ('World',),\n",
       " ('Hip Hop/Rap',),\n",
       " ('Science Fiction',),\n",
       " ('TV Shows',),\n",
       " ('Sci Fi & Fantasy',),\n",
       " ('Drama',),\n",
       " ('Comedy',),\n",
       " ('Alternative',),\n",
       " ('Classical',),\n",
       " ('Opera',)]"
      ]
     },
     "execution_count": 5,
     "metadata": {},
     "output_type": "execute_result"
    }
   ],
   "source": [
    "\n",
    "con = sqlite3.connect(\"data/Chinook_Sqlite.sqlite\")\n",
    "cur = con.cursor()\n",
    "cur.execute(\"SELECT Name FROM GENRE\")\n",
    "\n",
    "cur.fetchall()"
   ]
  },
  {
   "cell_type": "code",
   "execution_count": 23,
   "id": "954b5a8a",
   "metadata": {},
   "outputs": [
    {
     "data": {
      "text/plain": [
       "[(1, 'Rock'),\n",
       " (2, 'Jazz'),\n",
       " (3, 'Metal'),\n",
       " (4, 'Alternative & Punk'),\n",
       " (7, 'Latin')]"
      ]
     },
     "execution_count": 23,
     "metadata": {},
     "output_type": "execute_result"
    }
   ],
   "source": [
    "cur.execute('''\n",
    "SELECT Genre.GenreId, Genre.Name FROM Genre\n",
    "LEFT JOIN Track\n",
    "ON Genre.GenreId = Track.GenreId\n",
    "GROUP BY Genre.GenreId\n",
    "HAVING COUNT(Track.GenreId) > 100\n",
    "''')\n",
    "\n",
    "cur.fetchall()"
   ]
  }
 ],
 "metadata": {
  "kernelspec": {
   "display_name": "Python 3",
   "language": "python",
   "name": "python3"
  },
  "language_info": {
   "codemirror_mode": {
    "name": "ipython",
    "version": 3
   },
   "file_extension": ".py",
   "mimetype": "text/x-python",
   "name": "python",
   "nbconvert_exporter": "python",
   "pygments_lexer": "ipython3",
   "version": "3.8.8"
  }
 },
 "nbformat": 4,
 "nbformat_minor": 5
}
