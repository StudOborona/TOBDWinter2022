{
 "cells": [
  {
   "cell_type": "markdown",
   "metadata": {},
   "source": [
    "Датасет: Chinook_Sqlite.sqlite \n",
    "\n",
    "\n",
    "С помощью кода на Python с использованием sqlite3 и SQL решить задачу. Реализовать функции на Python:\n",
    "1. Которая возвращает все имеющиеся жанры. \n",
    "2. Которая возвращает ID жанров, в которых написано более 100 треков, и их (жанров) название.\n"
   ]
  },
  {
   "cell_type": "code",
   "execution_count": 1,
   "metadata": {},
   "outputs": [
    {
     "data": {
      "text/plain": [
       "[('Rock',),\n",
       " ('Jazz',),\n",
       " ('Metal',),\n",
       " ('Alternative & Punk',),\n",
       " ('Rock And Roll',),\n",
       " ('Blues',),\n",
       " ('Latin',),\n",
       " ('Reggae',),\n",
       " ('Pop',),\n",
       " ('Soundtrack',),\n",
       " ('Bossa Nova',),\n",
       " ('Easy Listening',),\n",
       " ('Heavy Metal',),\n",
       " ('R&B/Soul',),\n",
       " ('Electronica/Dance',),\n",
       " ('World',),\n",
       " ('Hip Hop/Rap',),\n",
       " ('Science Fiction',),\n",
       " ('TV Shows',),\n",
       " ('Sci Fi & Fantasy',),\n",
       " ('Drama',),\n",
       " ('Comedy',),\n",
       " ('Alternative',),\n",
       " ('Classical',),\n",
       " ('Opera',)]"
      ]
     },
     "execution_count": 1,
     "metadata": {},
     "output_type": "execute_result"
    }
   ],
   "source": [
    "import sqlite3\n",
    "\n",
    "con = sqlite3.connect(\"./data/Chinook_Sqlite.sqlite\")\n",
    "cur = con.cursor()\n",
    "cur.execute(\"SELECT Name FROM Genre\")\n",
    "cur.fetchall()"
   ]
  },
  {
   "cell_type": "code",
   "execution_count": 2,
   "metadata": {},
   "outputs": [
    {
     "data": {
      "text/plain": [
       "[(1, 'Rock'),\n",
       " (2, 'Jazz'),\n",
       " (3, 'Metal'),\n",
       " (4, 'Alternative & Punk'),\n",
       " (7, 'Latin')]"
      ]
     },
     "execution_count": 2,
     "metadata": {},
     "output_type": "execute_result"
    }
   ],
   "source": [
    "cur.execute(\"\"\"SELECT Genre.GenreId, Genre.Name FROM Genre\n",
    "JOIN Track On Genre.GenreId = Track.GenreId\n",
    "GROUP BY 1\n",
    "HAVING COUNT(Genre.GenreId) > 100\n",
    "\"\"\")\n",
    "cur.fetchall()"
   ]
  },
  {
   "cell_type": "code",
   "execution_count": null,
   "metadata": {},
   "outputs": [],
   "source": []
  },
  {
   "cell_type": "code",
   "execution_count": null,
   "metadata": {},
   "outputs": [],
   "source": []
  },
  {
   "cell_type": "code",
   "execution_count": null,
   "metadata": {},
   "outputs": [],
   "source": []
  }
 ],
 "metadata": {
  "interpreter": {
   "hash": "aee8b7b246df8f9039afb4144a1f6fd8d2ca17a180786b69acc140d282b71a49"
  },
  "kernelspec": {
   "display_name": "Python 3 (ipykernel)",
   "language": "python",
   "name": "python3"
  },
  "language_info": {
   "codemirror_mode": {
    "name": "ipython",
    "version": 3
   },
   "file_extension": ".py",
   "mimetype": "text/x-python",
   "name": "python",
   "nbconvert_exporter": "python",
   "pygments_lexer": "ipython3",
   "version": "3.9.9"
  }
 },
 "nbformat": 4,
 "nbformat_minor": 2
}
