{
 "cells": [
  {
   "cell_type": "markdown",
   "metadata": {},
   "source": [
    "3. Датасет: album_artist.xlsx\n",
    "С помощью кода на Python с использованием xlwings решить задачу. Вынести названия артистов на отдельный лист \"Артисты\" и присвоить каждому артисту уникальный идентификатор. Заменить названия артистов на исходном листе на идентификаторы с листа \"Артисты\".\n"
   ]
  },
  {
   "cell_type": "code",
   "execution_count": 155,
   "metadata": {},
   "outputs": [],
   "source": [
    "import xlwings as xw\n",
    "\n",
    "wb = xw.Book(\"album_artist.xlsx\")\n",
    "sheet = wb.sheets[\"Sheet1\"]\n",
    "art_sheet = wb.sheets.add(\"Артисты\")\n",
    "# art_sheet = wb.sheets[\"Артисты\"]\n",
    "art_sheet.range(\"A1\").value = \"Id\"\n",
    "art_sheet.range(\"B1\").value = \"Названия\"\n"
   ]
  },
  {
   "cell_type": "markdown",
   "metadata": {},
   "source": [
    "Перенос названий артистов на лист \"Артисты\""
   ]
  },
  {
   "cell_type": "code",
   "execution_count": 156,
   "metadata": {},
   "outputs": [],
   "source": [
    "lists = sheet.range(\"D2:D348\").raw_value\n",
    "flat_uniq_list = list(set([item for sublist in lists for item in sublist]))\n",
    "uniq_names = [flat_uniq_list[i:i+1] for i in range(0, len(flat_uniq_list), 1)]\n",
    "# print(uniq_names)\n",
    "art_sheet.range('B2').value = uniq_names"
   ]
  },
  {
   "cell_type": "markdown",
   "metadata": {},
   "source": [
    "Добавления новых id"
   ]
  },
  {
   "cell_type": "code",
   "execution_count": 157,
   "metadata": {},
   "outputs": [],
   "source": [
    "flat_id = list(range(1, len(uniq_names)+1))\n",
    "new_id_list = [flat_id[i:i+1] for i in range(0, len(flat_id), 1)]\n",
    "art_sheet.range(\"A2\").value = new_id_list"
   ]
  },
  {
   "cell_type": "markdown",
   "metadata": {},
   "source": [
    "Замена на исходном листе на новые Id"
   ]
  },
  {
   "cell_type": "code",
   "execution_count": 158,
   "metadata": {},
   "outputs": [],
   "source": [
    "sheet.range(\"D1\").value = \"Artist id\"\n",
    "\n",
    "# =ВПР(1;Артисты!A2:B205;2;ЛОЖЬ)\n",
    "\n",
    "# TODO остается только заменить значения в исходном листе 'Sheet1', не знаю как это сделать\n",
    "sheet.range(\"D2\").formula = \"\""
   ]
  }
 ],
 "metadata": {
  "interpreter": {
   "hash": "aee8b7b246df8f9039afb4144a1f6fd8d2ca17a180786b69acc140d282b71a49"
  },
  "kernelspec": {
   "display_name": "Python 3.9.9 64-bit",
   "language": "python",
   "name": "python3"
  },
  "language_info": {
   "codemirror_mode": {
    "name": "ipython",
    "version": 3
   },
   "file_extension": ".py",
   "mimetype": "text/x-python",
   "name": "python",
   "nbconvert_exporter": "python",
   "pygments_lexer": "ipython3",
   "version": "3.9.9"
  },
  "orig_nbformat": 4
 },
 "nbformat": 4,
 "nbformat_minor": 2
}
