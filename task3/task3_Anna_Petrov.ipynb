{
 "cells": [
  {
   "cell_type": "markdown",
   "id": "aa4ee1c7",
   "metadata": {},
   "source": [
    "3. Датасет: album_artist.xlsx\n",
    "С помощью кода на Python с использованием xlwings решить задачу. Вынести названия артистов на отдельный лист \"Артисты\" и присвоить каждому артисту уникальный идентификатор. Заменить названия артистов на исходном листе на идентификаторы с листа \"Артисты\"."
   ]
  },
  {
   "cell_type": "code",
   "execution_count": 1,
   "id": "14b2e96a",
   "metadata": {},
   "outputs": [
    {
     "data": {
      "text/plain": [
       "<Sheet [album_artist.xlsx]Артисты>"
      ]
     },
     "execution_count": 1,
     "metadata": {},
     "output_type": "execute_result"
    }
   ],
   "source": [
    "import xlwings as xw\n",
    "\n",
    "wb = xw.Book(\"data/album_artist.xlsx\")\n",
    "wb.sheets.add('Артисты')"
   ]
  },
  {
   "cell_type": "code",
   "execution_count": 2,
   "id": "bed5637e",
   "metadata": {},
   "outputs": [],
   "source": [
    "art_sheet = wb.sheets['Артисты']\n",
    "sheet1 = wb.sheets['Sheet1']"
   ]
  },
  {
   "cell_type": "code",
   "execution_count": 3,
   "id": "02d38b0e",
   "metadata": {},
   "outputs": [],
   "source": [
    "# перенос названия артистов на другой лист\n",
    "artists = sheet1.range('D1:D348').value \n",
    "art_sheet.range('B1:B348').options(transpose=True).value = artists\n",
    "\n",
    "# присвоение уникального идентификатора\n",
    "arr = list(range(0,347))\n",
    "art_sheet.range('A1').value = 'id'\n",
    "art_sheet.range('A2:A348').options(transpose=True).value = arr\n",
    "\n",
    "# замена названия артистов на идентификаторы\n",
    "id_ = art_sheet.range('A1:A348').value \n",
    "sheet1.range('D1:D348').options(transpose=True).value = id_"
   ]
  }
 ],
 "metadata": {
  "kernelspec": {
   "display_name": "Python 3",
   "language": "python",
   "name": "python3"
  },
  "language_info": {
   "codemirror_mode": {
    "name": "ipython",
    "version": 3
   },
   "file_extension": ".py",
   "mimetype": "text/x-python",
   "name": "python",
   "nbconvert_exporter": "python",
   "pygments_lexer": "ipython3",
   "version": "3.8.8"
  }
 },
 "nbformat": 4,
 "nbformat_minor": 5
}
