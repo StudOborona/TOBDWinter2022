{
 "cells": [
  {
   "cell_type": "markdown",
   "metadata": {},
   "source": [
    "Датасет: album_artist.xlsx \n",
    "\n",
    "С помощью кода на Python с использованием xlwings решить задачу. Вынести названия артистов на отдельный лист \"Артисты\" и присвоить каждому артисту уникальный идентификатор. Заменить названия артистов на исходном листе на идентификаторы с листа \"Артисты\"."
   ]
  },
  {
   "cell_type": "code",
   "execution_count": 1,
   "metadata": {},
   "outputs": [],
   "source": [
    "import xlwings as xw\n",
    "from xlwings.constants import AutoFillType"
   ]
  },
  {
   "cell_type": "code",
   "execution_count": 2,
   "metadata": {},
   "outputs": [],
   "source": [
    "wb = xw.Book('album_artist.xlsx') \n",
    "sht = wb.sheets['Sheet1']\n",
    "sht_artist = wb.sheets.add(name=\"Артисты\")\n",
    "\n",
    "# Берём все уникальные имена артистов \n",
    "artist_lst = list(set(sht.range('D2').expand('down').value))\n",
    "artist_len = len(artist_lst)"
   ]
  },
  {
   "cell_type": "code",
   "execution_count": 3,
   "metadata": {},
   "outputs": [],
   "source": [
    "# Добавляем имена на страницу \"Артисты\"\n",
    "sht_artist.range('B1').value = 'Name'\n",
    "sht_artist.range('B2').options(transpose=True).value = artist_lst"
   ]
  },
  {
   "cell_type": "code",
   "execution_count": 4,
   "metadata": {},
   "outputs": [],
   "source": [
    "# Добавляем ArtistId\n",
    "sht_artist.range('A1').value = 'ArtistId'\n",
    "sht_artist.range('A2').options(transpose=True).value = list(range(1, artist_len+1))"
   ]
  },
  {
   "cell_type": "code",
   "execution_count": 5,
   "metadata": {},
   "outputs": [],
   "source": [
    "# Вставляем значения ArtistId вместо имени артиста на первую страницу\n",
    "sht.range(\"D1\").value = 'ArtistId'\n",
    "# в xlwings нужно использовать английское название функий и передавть аргументы через запятую\n",
    "sht.range(\"E2\").formula = f'=INDEX(Артисты!$A$2:$A${artist_len+1},MATCH(D2,Артисты!$B$2:$B${artist_len+1},0))' \n",
    "album_len = sht.range((1, 2)).end('down').row \n",
    "sht.range('E2').api.AutoFill(sht.range(f\"E2:E{album_len}\").api, AutoFillType.xlFillDefault)\n",
    "sht.range('D2').options(transpose=True).value = sht.range('E2').expand('down').value\n",
    "sht.range('E2').expand('down').value = ''"
   ]
  }
 ],
 "metadata": {
  "kernelspec": {
   "display_name": "Python 3",
   "language": "python",
   "name": "python3"
  },
  "language_info": {
   "codemirror_mode": {
    "name": "ipython",
    "version": 3
   },
   "file_extension": ".py",
   "mimetype": "text/x-python",
   "name": "python",
   "nbconvert_exporter": "python",
   "pygments_lexer": "ipython3",
   "version": "3.7.3"
  }
 },
 "nbformat": 4,
 "nbformat_minor": 4
}
