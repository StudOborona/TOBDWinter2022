{
 "cells": [
  {
   "cell_type": "markdown",
   "metadata": {},
   "source": [
    "# Задача 3 (Mac)"
   ]
  },
  {
   "cell_type": "markdown",
   "metadata": {},
   "source": [
    "3. Датасет: album_artist.xlsx\n",
    "С помощью кода на Python с использованием xlwings решить задачу. Вынести названия артистов на отдельный лист \"Артисты\" и присвоить каждому артисту уникальный идентификатор. Заменить названия артистов на исходном листе на идентификаторы с листа \"Артисты\"."
   ]
  },
  {
   "cell_type": "code",
   "execution_count": 1,
   "metadata": {},
   "outputs": [],
   "source": [
    "import xlwings as xw\n",
    "from xlwings.constants import AutoFillType"
   ]
  },
  {
   "cell_type": "code",
   "execution_count": 2,
   "metadata": {},
   "outputs": [],
   "source": [
    "wb = xw.Book(\"./data/album_artist.xlsx\")\n",
    "sheet = wb.sheets[\"Sheet1\"]\n",
    "art_sheet = wb.sheets.add(\"Артисты\")"
   ]
  },
  {
   "cell_type": "markdown",
   "metadata": {},
   "source": [
    "Перенос названий артистов на лист \"Артисты\""
   ]
  },
  {
   "cell_type": "code",
   "execution_count": 3,
   "metadata": {},
   "outputs": [],
   "source": [
    "art_sheet.range(\"B1\").value = \"Name\"\n",
    "art_list = list(set(sheet.range(\"D2:D348\").value))\n",
    "art_sheet.range('B2').options(transpose=True).value = art_list"
   ]
  },
  {
   "cell_type": "markdown",
   "metadata": {},
   "source": [
    "Добавления новых id"
   ]
  },
  {
   "cell_type": "code",
   "execution_count": 4,
   "metadata": {},
   "outputs": [],
   "source": [
    "art_sheet.range(\"A1\").value = \"ArtistId\"\n",
    "id_list = list(range(1, len(art_list)+1))\n",
    "art_sheet.range(\"A2\").options(transpose=True).value = id_list"
   ]
  },
  {
   "cell_type": "markdown",
   "metadata": {},
   "source": [
    "Замена на исходном листе на новые Id"
   ]
  },
  {
   "cell_type": "code",
   "execution_count": 5,
   "metadata": {},
   "outputs": [],
   "source": [
    "sheet.range(\"D1\").value = \"Artist id\"\n",
    "# метод .value работает как формула на Mac OS, .formula для винды\n",
    "sheet.range(\"E2\").value = \"=INDEX(Артисты!A$2:A$205;MATCH(D2;Артисты!B$2:B$205;0))\"\n",
    "sheet.range('E2').api.autofill(type=AutoFillType.xlFillDefault, destination=sheet.range(\"E2:E348\").api)"
   ]
  },
  {
   "cell_type": "code",
   "execution_count": 6,
   "metadata": {},
   "outputs": [],
   "source": [
    "ids = sheet.range(\"E2\").expand(\"down\").value\n",
    "sheet.range(\"D2\").options(transpose=True).value = ids\n",
    "sheet.range('E2').expand(\"down\").value = \"\""
   ]
  },
  {
   "cell_type": "code",
   "execution_count": null,
   "metadata": {},
   "outputs": [],
   "source": []
  },
  {
   "cell_type": "code",
   "execution_count": null,
   "metadata": {},
   "outputs": [],
   "source": []
  }
 ],
 "metadata": {
  "interpreter": {
   "hash": "aee8b7b246df8f9039afb4144a1f6fd8d2ca17a180786b69acc140d282b71a49"
  },
  "kernelspec": {
   "display_name": "Python 3 (ipykernel)",
   "language": "python",
   "name": "python3"
  },
  "language_info": {
   "codemirror_mode": {
    "name": "ipython",
    "version": 3
   },
   "file_extension": ".py",
   "mimetype": "text/x-python",
   "name": "python",
   "nbconvert_exporter": "python",
   "pygments_lexer": "ipython3",
   "version": "3.9.9"
  }
 },
 "nbformat": 4,
 "nbformat_minor": 2
}
