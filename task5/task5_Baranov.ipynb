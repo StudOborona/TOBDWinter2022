{
 "cells": [
  {
   "cell_type": "markdown",
   "metadata": {},
   "source": [
    "По данным из файла data/meals.json сформировать словарь, в котором по идентификатору блюда можно получить список ингредиентов."
   ]
  },
  {
   "cell_type": "code",
   "execution_count": 1,
   "metadata": {},
   "outputs": [
    {
     "name": "stdout",
     "output_type": "stream",
     "text": [
      "['Milk', 'Oil', 'Eggs', 'Flour', 'Baking Powder', 'Salt', 'Unsalted Butter', 'Sugar', 'Peanut Butter']\n"
     ]
    }
   ],
   "source": [
    "import json\n",
    "\n",
    "with open(\"./data/meals.json\", \"r\", encoding=\"utf-8\") as f:\n",
    "    data = json.load(f)\n",
    "\n",
    "\n",
    "def get_recipes(id=53050):\n",
    "    id = str(id)\n",
    "    res = []\n",
    "    for item in data[\"meals\"]:\n",
    "\n",
    "        if item[\"idMeal\"] == id:\n",
    "\n",
    "            for i in item.keys():\n",
    "                if \"strIngredient\" in i and item[i] is not None and item[i] != \"\":\n",
    "                    res.append(item[i])\n",
    "            print(res)\n",
    "            break\n",
    "\n",
    "\n",
    "# get_recipes()\n",
    "get_recipes(53049)\n"
   ]
  },
  {
   "cell_type": "code",
   "execution_count": null,
   "metadata": {},
   "outputs": [],
   "source": []
  }
 ],
 "metadata": {
  "interpreter": {
   "hash": "aee8b7b246df8f9039afb4144a1f6fd8d2ca17a180786b69acc140d282b71a49"
  },
  "kernelspec": {
   "display_name": "Python 3 (ipykernel)",
   "language": "python",
   "name": "python3"
  },
  "language_info": {
   "codemirror_mode": {
    "name": "ipython",
    "version": 3
   },
   "file_extension": ".py",
   "mimetype": "text/x-python",
   "name": "python",
   "nbconvert_exporter": "python",
   "pygments_lexer": "ipython3",
   "version": "3.9.9"
  }
 },
 "nbformat": 4,
 "nbformat_minor": 2
}
