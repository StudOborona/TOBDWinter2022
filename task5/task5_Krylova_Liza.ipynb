{
 "cells": [
  {
   "cell_type": "markdown",
   "metadata": {},
   "source": [
    "5. По данным из файла data/meals.json сформировать словарь, в котором по идентификатору блюда можно получить список ингредиентов."
   ]
  },
  {
   "cell_type": "code",
   "execution_count": 1,
   "metadata": {},
   "outputs": [],
   "source": [
    "import json"
   ]
  },
  {
   "cell_type": "code",
   "execution_count": 3,
   "metadata": {},
   "outputs": [
    {
     "data": {
      "text/plain": [
       "['Milk',\n",
       " 'Oil',\n",
       " 'Eggs',\n",
       " 'Flour',\n",
       " 'Baking Powder',\n",
       " 'Salt',\n",
       " 'Unsalted Butter',\n",
       " 'Sugar',\n",
       " 'Peanut Butter']"
      ]
     },
     "execution_count": 3,
     "metadata": {},
     "output_type": "execute_result"
    }
   ],
   "source": [
    "with open ('./data/meals.json', 'r', encoding = 'utf-8') as fp:\n",
    "    data = json.load(fp)\n",
    "    \n",
    "meals_dict = {}\n",
    "for d in data.get('meals'):\n",
    "    res = []\n",
    "    for key in d.keys():\n",
    "        if ('strIngredient' in key) and d[key]:\n",
    "            res.append(d[key])\n",
    "    meals_dict[d['idMeal']] = res\n",
    "meals_dict[\"53049\"]"
   ]
  },
  {
   "cell_type": "code",
   "execution_count": null,
   "metadata": {},
   "outputs": [],
   "source": []
  }
 ],
 "metadata": {
  "kernelspec": {
   "display_name": "Python 3 (ipykernel)",
   "language": "python",
   "name": "python3"
  },
  "language_info": {
   "codemirror_mode": {
    "name": "ipython",
    "version": 3
   },
   "file_extension": ".py",
   "mimetype": "text/x-python",
   "name": "python",
   "nbconvert_exporter": "python",
   "pygments_lexer": "ipython3",
   "version": "3.9.9"
  }
 },
 "nbformat": 4,
 "nbformat_minor": 4
}
