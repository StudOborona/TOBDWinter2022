{
 "cells": [
  {
   "cell_type": "markdown",
   "metadata": {},
   "source": [
    "5. По данным из файла data/meals.json сформировать словарь, в котором по идентификатору блюда можно получить список ингредиентов."
   ]
  },
  {
   "cell_type": "code",
   "execution_count": 1,
   "metadata": {},
   "outputs": [],
   "source": [
    "import json"
   ]
  },
  {
   "cell_type": "code",
   "execution_count": 24,
   "metadata": {},
   "outputs": [
    {
     "data": {
      "text/plain": [
       "{'52768': ['digestive biscuits',\n",
       "  'butter',\n",
       "  'Bramley apples',\n",
       "  'butter, softened',\n",
       "  'caster sugar',\n",
       "  'free-range eggs, beaten',\n",
       "  'ground almonds',\n",
       "  'almond extract',\n",
       "  'flaked almonds'],\n",
       " '52893': ['Plain Flour',\n",
       "  'Caster Sugar',\n",
       "  'Butter',\n",
       "  'Braeburn Apples',\n",
       "  'Butter',\n",
       "  'Demerara Sugar',\n",
       "  'Blackberrys',\n",
       "  'Cinnamon',\n",
       "  'Ice Cream'],\n",
       " '53049': ['Milk',\n",
       "  'Oil',\n",
       "  'Eggs',\n",
       "  'Flour',\n",
       "  'Baking Powder',\n",
       "  'Salt',\n",
       "  'Unsalted Butter',\n",
       "  'Sugar',\n",
       "  'Peanut Butter'],\n",
       " '53050': ['Chicken Thighs',\n",
       "  'Challots',\n",
       "  'Ginger',\n",
       "  'Garlic Clove',\n",
       "  'Cayenne Pepper',\n",
       "  'Turmeric',\n",
       "  'Cumin',\n",
       "  'Coriander',\n",
       "  'Fennel',\n",
       "  'Tamarind Paste',\n",
       "  'Coconut Milk',\n",
       "  'Sugar',\n",
       "  'Water']}"
      ]
     },
     "execution_count": 24,
     "metadata": {},
     "output_type": "execute_result"
    }
   ],
   "source": [
    "with open ('meals.json', 'r', encoding = 'utf-8') as fp:\n",
    "    data = json.load(fp)\n",
    "    \n",
    "meals_dict = {}\n",
    "for d in data.get('meals'):\n",
    "    res = []\n",
    "    for key in d.keys():\n",
    "        if ('strIngredient' in key) and d[key]:\n",
    "            res.append(d[key])\n",
    "    meals_dict[d['idMeal']] = res\n",
    "meals_dict"
   ]
  },
  {
   "cell_type": "code",
   "execution_count": null,
   "metadata": {},
   "outputs": [],
   "source": []
  }
 ],
 "metadata": {
  "kernelspec": {
   "display_name": "Python 3",
   "language": "python",
   "name": "python3"
  },
  "language_info": {
   "codemirror_mode": {
    "name": "ipython",
    "version": 3
   },
   "file_extension": ".py",
   "mimetype": "text/x-python",
   "name": "python",
   "nbconvert_exporter": "python",
   "pygments_lexer": "ipython3",
   "version": "3.7.3"
  }
 },
 "nbformat": 4,
 "nbformat_minor": 4
}
