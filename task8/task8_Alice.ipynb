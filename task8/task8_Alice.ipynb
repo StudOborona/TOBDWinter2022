{
 "cells": [
  {
   "cell_type": "code",
   "execution_count": null,
   "metadata": {},
   "outputs": [],
   "source": [
    "'Подсчитать, сколько раз во всех текстовых файлах, лежащих в каталоге fish, встречаются слова, начинающиеся с прописной буквы. Выполнить задание с использованием Dask'"
   ]
  },
  {
   "cell_type": "code",
   "execution_count": 19,
   "metadata": {},
   "outputs": [
    {
     "data": {
      "text/plain": [
       "5936"
      ]
     },
     "execution_count": 19,
     "metadata": {},
     "output_type": "execute_result"
    }
   ],
   "source": [
    "import dask.bag as db\n",
    "import re\n",
    "\n",
    "with open('001.txt', 'r') as file:\n",
    "    text = file.read()\n",
    "with open('002.txt', 'r') as file:\n",
    "    text += file.read()\n",
    "with open('003.txt', 'r') as file:\n",
    "    text += file.read()\n",
    "with open('004.txt', 'r') as file:\n",
    "    text += file.read()\n",
    "text = text.split()\n",
    "text = db.from_sequence(text)\n",
    "text = text.filter(lambda x: re.match('[a-zа-яё]', x))\n",
    "text.count().compute()"
   ]
  }
 ],
 "metadata": {
  "kernelspec": {
   "display_name": "Python 3",
   "language": "python",
   "name": "python3"
  },
  "language_info": {
   "codemirror_mode": {
    "name": "ipython",
    "version": 3
   },
   "file_extension": ".py",
   "mimetype": "text/x-python",
   "name": "python",
   "nbconvert_exporter": "python",
   "pygments_lexer": "ipython3",
   "version": "3.8.10"
  }
 },
 "nbformat": 4,
 "nbformat_minor": 4
}
